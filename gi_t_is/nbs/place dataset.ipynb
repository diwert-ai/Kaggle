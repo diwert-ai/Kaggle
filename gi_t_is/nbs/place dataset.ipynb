{
 "cells": [
  {
   "cell_type": "code",
   "execution_count": 8,
   "metadata": {
    "cellId": "tf809ljyyqik4sfwuigqf"
   },
   "outputs": [
    {
     "name": "stdout",
     "output_type": "stream",
     "text": [
      "unzip -q  /home/jupyter/work/resources/uwmgi-mask-dataset.zip  -d  /home/jupyter/mnt/datasets/uw_dataset/mask\n",
      "unzip -q  /home/jupyter/work/resources/uw-madison-gi-tract-image-segmentation.zip  -d  /home/jupyter/mnt/datasets/uw_dataset/train\n",
      "unzip -q  /home/jupyter/work/resources/uwmgi-img-size-320-384.zip  -d  /home/jupyter/mnt/datasets/uw_dataset/data_320_384\n",
      "unzip -q  /home/jupyter/work/resources/resized-512x512.zip  -d  /home/jupyter/mnt/datasets/uw_dataset/data_512_512\n"
     ]
    }
   ],
   "source": [
    "DATASET =     {'mask':'uwmgi-mask-dataset.zip',\n",
    "               'train': 'uw-madison-gi-tract-image-segmentation.zip',\n",
    "               'data_320_384': 'uwmgi-img-size-320-384.zip',\n",
    "                'data_512_512': 'resized-512x512.zip'}\n",
    "\n",
    "WORK_DIR='/home/jupyter/work/resources/'\n",
    "DATASET_DIR='/home/jupyter/mnt/datasets/uw_dataset/'\n",
    "\n",
    "\n",
    "def place_dataset(ds_dict, work_dir, ds_dir):\n",
    "    for record in ds_dict:\n",
    "        print ('unzip -q ',work_dir+ds_dict[record],' -d ',ds_dir+record)\n",
    "place_dataset(DATASET,WORK_DIR, DATASET_DIR) "
   ]
  },
  {
   "cell_type": "code",
   "execution_count": 12,
   "metadata": {
    "cellId": "io9njlj27prnfjga3equf"
   },
   "outputs": [
    {
     "name": "stdout",
     "output_type": "stream",
     "text": [
      "Background cell scheduled. Waiting for foreground cells to finish commits\n",
      "Preparing c1.4 instance...\n",
      "c1.4 instance is ready, running task...\n",
      "Mounting dataset uw_dataset... /home/jupyter/mnt/datasets/uw_dataset\n",
      "Task is done, waiting for foreground cells to finish...\n",
      "It's init dataset task. State result won't be merged.\n"
     ]
    }
   ],
   "source": [
    "#pragma dataset init uw_dataset --size 20Gb\n",
    "!unzip -q  /home/jupyter/work/resources/uwmgi-img-size-320-384.zip  -d  /home/jupyter/mnt/datasets/uw_dataset/data_320_384"
   ]
  },
  {
   "cell_type": "code",
   "execution_count": 16,
   "metadata": {
    "cellId": "ufydxaeg66godufuzz0nhg"
   },
   "outputs": [
    {
     "name": "stdout",
     "output_type": "stream",
     "text": [
      "Background cell scheduled. Waiting for foreground cells to finish commits\n",
      "Preparing c1.4 instance...\n",
      "c1.4 instance is ready, running task...\n",
      "Mounting dataset uw_dataset... /home/jupyter/mnt/datasets/uw_dataset\n",
      "Task is done, waiting for foreground cells to finish...\n",
      "It's init dataset task. State result won't be merged.\n"
     ]
    }
   ],
   "source": [
    "#pragma dataset init uw_dataset --size 40Gb\n",
    "!unzip -q  /home/jupyter/work/resources/uwmgi-mask-dataset.zip  -d  /home/jupyter/mnt/datasets/uw_dataset/mask\n",
    "!unzip -q  /home/jupyter/work/resources/uw-madison-gi-tract-image-segmentation.zip  -d  /home/jupyter/mnt/datasets/uw_dataset"
   ]
  },
  {
   "cell_type": "code",
   "execution_count": 15,
   "metadata": {
    "cellId": "9a7hb5ia0xf8j6dhv54bvc"
   },
   "outputs": [
    {
     "name": "stdout",
     "output_type": "stream",
     "text": [
      "Unmounting dataset uw_dataset... ok\n",
      "Deleting old dataset uw_dataset... ok\n"
     ]
    }
   ],
   "source": [
    "#pragma dataset delete uw_dataset"
   ]
  },
  {
   "cell_type": "code",
   "execution_count": 17,
   "metadata": {
    "cellId": "01aqj0anfnji9db43u60oeq"
   },
   "outputs": [
    {
     "name": "stdout",
     "output_type": "stream",
     "text": [
      "Background cell scheduled. Waiting for foreground cells to finish commits\n",
      "Preparing c1.4 instance...\n",
      "c1.4 instance is ready, running task...\n",
      "Mounting dataset uw_dataset_512_25D... /home/jupyter/mnt/datasets/uw_dataset_512_25D\n",
      "Task is done, waiting for foreground cells to finish...\n",
      "It's init dataset task. State result won't be merged.\n"
     ]
    }
   ],
   "source": [
    "#pragma dataset init uw_dataset_512_25D --size 100Gb\n",
    "!unzip -q  /home/jupyter/work/resources/archives/images.zip  -d  /home/jupyter/mnt/datasets/uw_dataset_512_25D\n",
    "!unzip -q  /home/jupyter/work/resources/archives/masks.zip  -d  /home/jupyter/mnt/datasets/uw_dataset_512_25D\n",
    "!cp /home/jupyter/work/resources/archives/train.csv /home/jupyter/mnt/datasets/uw_dataset_512_25D\n",
    "!cp /home/jupyter/work/resources/archives/df_train.csv /home/jupyter/mnt/datasets/uw_dataset_512_25D"
   ]
  },
  {
   "cell_type": "code",
   "execution_count": 20,
   "metadata": {
    "cellId": "2vx38t828u76ler1up2n2q"
   },
   "outputs": [
    {
     "name": "stdout",
     "output_type": "stream",
     "text": [
      "Unmounting dataset uw_dataset... ok\n",
      "Deleting old dataset uw_dataset... ok\n"
     ]
    }
   ],
   "source": [
    "#pragma dataset delete uw_dataset"
   ]
  },
  {
   "cell_type": "code",
   "execution_count": 20,
   "metadata": {
    "cellId": "pbvd1i33txr68at0vrrwo7"
   },
   "outputs": [
    {
     "name": "stdout",
     "output_type": "stream",
     "text": [
      "Background cell scheduled. Waiting for foreground cells to finish commits\n",
      "Preparing c1.4 instance...\n",
      "c1.4 instance is ready, running task...\n",
      "Mounting dataset uw_dataset... /home/jupyter/mnt/datasets/uw_dataset\n",
      "Task is done, waiting for foreground cells to finish...\n",
      "It's init dataset task. State result won't be merged.\n"
     ]
    }
   ],
   "source": [
    "#pragma dataset init uw_dataset --size 20Gb\n",
    "!unzip -q  /home/jupyter/work/resources/2d-224x224.zip  -d  /home/jupyter/mnt/datasets/uw_dataset"
   ]
  },
  {
   "cell_type": "code",
   "execution_count": null,
   "metadata": {
    "cellId": "rfcctrqs2gpno5w0h19xr"
   },
   "outputs": [],
   "source": []
  }
 ],
 "metadata": {
  "language_info": {
   "codemirror_mode": {
    "name": "ipython",
    "version": 3
   },
   "file_extension": ".py",
   "mimetype": "text/x-python",
   "name": "python",
   "nbconvert_exporter": "python",
   "pygments_lexer": "ipython3",
   "version": "3.7.7"
  },
  "notebookId": "0c5cd6b3-c58b-45f0-bb0d-d3fb6220de59",
  "notebookPath": "place dataset.ipynb"
 },
 "nbformat": 4,
 "nbformat_minor": 4
}
