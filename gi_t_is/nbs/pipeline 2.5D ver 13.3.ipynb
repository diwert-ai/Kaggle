{
 "cells": [
  {
   "cell_type": "code",
   "execution_count": 1,
   "metadata": {
    "cellId": "4zvrr7evjpdnxfrn1tg3fq"
   },
   "outputs": [
    {
     "name": "stderr",
     "output_type": "stream",
     "text": [
      "/usr/local/lib/python3.8/dist-packages/tqdm/std.py:706: FutureWarning: The Panel class is removed from pandas. Accessing it from the top-level namespace will also be removed in the next version\n",
      "  from pandas import Panel\n"
     ]
    }
   ],
   "source": [
    "#!g1.1\n",
    "#ref https://www.kaggle.com/code/awsaf49/uwmgi-2-5d-train-pytorch\n",
    "import numpy as np\n",
    "import pandas as pd\n",
    "pd.options.plotting.backend = \"plotly\"\n",
    "import random\n",
    "from glob import glob\n",
    "import os, shutil\n",
    "from tqdm.notebook import tqdm\n",
    "tqdm.pandas()\n",
    "import time\n",
    "import copy\n",
    "import joblib\n",
    "from collections import defaultdict\n",
    "import gc\n",
    "from IPython import display as ipd\n",
    "\n",
    "# visualization\n",
    "import cv2\n",
    "import matplotlib.pyplot as plt\n",
    "from matplotlib.patches import Rectangle\n",
    "\n",
    "# Sklearn\n",
    "from sklearn.model_selection import StratifiedKFold, KFold, StratifiedGroupKFold\n",
    "\n",
    "# PyTorch \n",
    "import torch\n",
    "import torch.nn as nn\n",
    "import torch.optim as optim\n",
    "from torch.optim import lr_scheduler\n",
    "from torch.utils.data import Dataset, DataLoader\n",
    "from torch.cuda import amp\n",
    "\n",
    "import timm\n",
    "\n",
    "# Albumentations for augmentations\n",
    "import albumentations as A\n",
    "from albumentations.pytorch import ToTensorV2\n",
    "\n",
    "import rasterio\n",
    "from joblib import Parallel, delayed\n",
    "\n",
    "# For colored terminal text\n",
    "from colorama import Fore, Back, Style\n",
    "c_  = Fore.GREEN\n",
    "sr_ = Style.RESET_ALL\n",
    "\n",
    "import warnings\n",
    "warnings.filterwarnings(\"ignore\")\n",
    "\n",
    "# For descriptive error messages\n",
    "os.environ['CUDA_LAUNCH_BLOCKING'] = \"1\""
   ]
  },
  {
   "cell_type": "code",
   "execution_count": 2,
   "metadata": {
    "cellId": "chr5k7fauthnem49vc509a"
   },
   "outputs": [],
   "source": [
    "#!g1.1\n",
    "class CFG:\n",
    "    seed          = 101\n",
    "    debug         = False # set debug=False for Full Training\n",
    "    exp_name      = '2.5D'\n",
    "    comment       = 'unet-effb2-512x512x3'\n",
    "    model_name    = 'Unet'\n",
    "    backbone      = 'efficientnet-b2'\n",
    "    train_bs      = 64\n",
    "    valid_bs      = train_bs*2\n",
    "    img_size      = [512, 512]\n",
    "    epochs        = 18\n",
    "    lr            = 2e-3\n",
    "    scheduler     = 'CosineAnnealingLR'\n",
    "    min_lr        = 1e-6\n",
    "    T_max         = int(30000/train_bs*epochs)+50\n",
    "    T_0           = 25\n",
    "    warmup_epochs = 0\n",
    "    wd            = 1e-6\n",
    "    n_accumulate  = max(1, 32//train_bs)\n",
    "    n_fold        = 5\n",
    "    folds         = [0]\n",
    "    num_classes   = 3\n",
    "    input_chnls   = 3\n",
    "    val_freq      = 2\n",
    "    device        = torch.device(\"cuda:0\" if torch.cuda.is_available() else \"cpu\")"
   ]
  },
  {
   "cell_type": "code",
   "execution_count": 3,
   "metadata": {
    "cellId": "a0j3gjilmd0fp4k89sz1if"
   },
   "outputs": [
    {
     "data": {
      "text/plain": [
       "['mkdir: cannot create directory ‘/home/jupyter/work/resources/output/2.5D_Unet_efficientnet-b2_512_512_3/’: File exists']"
      ]
     },
     "execution_count": 3,
     "metadata": {},
     "output_type": "execute_result"
    }
   ],
   "source": [
    "#!g1.1\n",
    "\n",
    "OUTPUT_DIR = {'BSL':'/home/jupyter/work/resources/output/',\n",
    "              'NORM':'/home/jupyter/work/resources/output/'}\n",
    "WORK_DIR='/home/jupyter/work/resources/'\n",
    "DATASET_DIR='/home/jupyter/mnt/datasets/uw_dataset_512_25D/'\n",
    "EXPERIMENT= f'{CFG.exp_name}_{CFG.model_name}_{CFG.backbone}_{CFG.img_size[0]}_{CFG.img_size[1]}_{CFG.input_chnls}'\n",
    "EXPERIMENT_DIR = OUTPUT_DIR['BSL'] + EXPERIMENT+'/'\n",
    "\n",
    "!!mkdir {EXPERIMENT_DIR}"
   ]
  },
  {
   "cell_type": "code",
   "execution_count": 4,
   "metadata": {
    "cellId": "nlg6mdbzuhjf5tr4taakzu"
   },
   "outputs": [
    {
     "name": "stderr",
     "output_type": "stream",
     "text": [
      "Failed to detect the name of this notebook, you can set it manually with the WANDB_NOTEBOOK_NAME environment variable to enable code saving.\n",
      "\u001b[34m\u001b[1mwandb\u001b[0m: Currently logged in as: \u001b[33mdiwert\u001b[0m. Use \u001b[1m`wandb login --relogin`\u001b[0m to force relogin\n",
      "\u001b[34m\u001b[1mwandb\u001b[0m: \u001b[33mWARNING\u001b[0m If you're specifying your api key in code, ensure this code is not shared publicly.\n",
      "\u001b[34m\u001b[1mwandb\u001b[0m: \u001b[33mWARNING\u001b[0m Consider setting the WANDB_API_KEY environment variable, or running `wandb login` from the command line.\n",
      "\u001b[34m\u001b[1mwandb\u001b[0m: Appending key for api.wandb.ai to your netrc file: /home/jupyter/.netrc\n"
     ]
    }
   ],
   "source": [
    "#!g1.1\n",
    "import wandb\n",
    "\n",
    "try:\n",
    "    api_key = 'cef6c5793d7af5dfbce82bfb21a7787c2123110c'\n",
    "    wandb.login(key=api_key)\n",
    "    anonymous = None\n",
    "except:\n",
    "    anonymous = \"must\"\n",
    "    print('To use your W&B account,'\\\n",
    "          '\\nGo to Add-ons -> Secrets and provide your W&B access token. Use the Label name as WANDB.'\\\n",
    "          '\\nGet your W&B access token from here: https://wandb.ai/authorize')"
   ]
  },
  {
   "cell_type": "code",
   "execution_count": 5,
   "metadata": {
    "cellId": "ociy50nekjso1i8o7ike8q"
   },
   "outputs": [
    {
     "name": "stdout",
     "output_type": "stream",
     "text": [
      "> SEEDING DONE\n"
     ]
    }
   ],
   "source": [
    "#!g1.1\n",
    "def set_seed(seed = 42):\n",
    "    '''Sets the seed of the entire notebook so results are the same every time we run.\n",
    "    This is for REPRODUCIBILITY.'''\n",
    "    np.random.seed(seed)\n",
    "    random.seed(seed)\n",
    "    torch.manual_seed(seed)\n",
    "    torch.cuda.manual_seed(seed)\n",
    "    # When running on the CuDNN backend, two further options must be set\n",
    "    torch.backends.cudnn.deterministic = True\n",
    "    torch.backends.cudnn.benchmark = False\n",
    "    # Set a fixed value for the hash seed\n",
    "    os.environ['PYTHONHASHSEED'] = str(seed)\n",
    "    print('> SEEDING DONE')\n",
    "    \n",
    "set_seed(CFG.seed)"
   ]
  },
  {
   "cell_type": "code",
   "execution_count": 6,
   "metadata": {
    "cellId": "lxq5rjhouygrcxsk84iru8"
   },
   "outputs": [
    {
     "data": {
      "text/html": [
       "<div>\n",
       "<style scoped>\n",
       "    .dataframe tbody tr th:only-of-type {\n",
       "        vertical-align: middle;\n",
       "    }\n",
       "\n",
       "    .dataframe tbody tr th {\n",
       "        vertical-align: top;\n",
       "    }\n",
       "\n",
       "    .dataframe thead th {\n",
       "        text-align: right;\n",
       "    }\n",
       "</style>\n",
       "<table border=\"1\" class=\"dataframe\">\n",
       "  <thead>\n",
       "    <tr style=\"text-align: right;\">\n",
       "      <th></th>\n",
       "      <th>image_path</th>\n",
       "      <th>mask_path</th>\n",
       "      <th>id</th>\n",
       "    </tr>\n",
       "  </thead>\n",
       "  <tbody>\n",
       "    <tr>\n",
       "      <th>0</th>\n",
       "      <td>/home/jupyter/mnt/datasets/uw_dataset_512_25D/...</td>\n",
       "      <td>/home/jupyter/mnt/datasets/uw_dataset_512_25D/...</td>\n",
       "      <td>case147_day19_slice_0018</td>\n",
       "    </tr>\n",
       "    <tr>\n",
       "      <th>1</th>\n",
       "      <td>/home/jupyter/mnt/datasets/uw_dataset_512_25D/...</td>\n",
       "      <td>/home/jupyter/mnt/datasets/uw_dataset_512_25D/...</td>\n",
       "      <td>case154_day17_slice_0124</td>\n",
       "    </tr>\n",
       "    <tr>\n",
       "      <th>2</th>\n",
       "      <td>/home/jupyter/mnt/datasets/uw_dataset_512_25D/...</td>\n",
       "      <td>/home/jupyter/mnt/datasets/uw_dataset_512_25D/...</td>\n",
       "      <td>case133_day0_slice_0057</td>\n",
       "    </tr>\n",
       "    <tr>\n",
       "      <th>3</th>\n",
       "      <td>/home/jupyter/mnt/datasets/uw_dataset_512_25D/...</td>\n",
       "      <td>/home/jupyter/mnt/datasets/uw_dataset_512_25D/...</td>\n",
       "      <td>case154_day14_slice_0062</td>\n",
       "    </tr>\n",
       "    <tr>\n",
       "      <th>4</th>\n",
       "      <td>/home/jupyter/mnt/datasets/uw_dataset_512_25D/...</td>\n",
       "      <td>/home/jupyter/mnt/datasets/uw_dataset_512_25D/...</td>\n",
       "      <td>case125_day0_slice_0017</td>\n",
       "    </tr>\n",
       "  </tbody>\n",
       "</table>\n",
       "</div>"
      ],
      "text/plain": [
       "                                          image_path  \\\n",
       "0  /home/jupyter/mnt/datasets/uw_dataset_512_25D/...   \n",
       "1  /home/jupyter/mnt/datasets/uw_dataset_512_25D/...   \n",
       "2  /home/jupyter/mnt/datasets/uw_dataset_512_25D/...   \n",
       "3  /home/jupyter/mnt/datasets/uw_dataset_512_25D/...   \n",
       "4  /home/jupyter/mnt/datasets/uw_dataset_512_25D/...   \n",
       "\n",
       "                                           mask_path                        id  \n",
       "0  /home/jupyter/mnt/datasets/uw_dataset_512_25D/...  case147_day19_slice_0018  \n",
       "1  /home/jupyter/mnt/datasets/uw_dataset_512_25D/...  case154_day17_slice_0124  \n",
       "2  /home/jupyter/mnt/datasets/uw_dataset_512_25D/...   case133_day0_slice_0057  \n",
       "3  /home/jupyter/mnt/datasets/uw_dataset_512_25D/...  case154_day14_slice_0062  \n",
       "4  /home/jupyter/mnt/datasets/uw_dataset_512_25D/...   case125_day0_slice_0017  "
      ]
     },
     "execution_count": 6,
     "metadata": {},
     "output_type": "execute_result"
    }
   ],
   "source": [
    "#!g1.1\n",
    "path_df = pd.DataFrame(glob(DATASET_DIR+'images/*'), columns=['image_path'])\n",
    "path_df['mask_path'] = path_df.image_path.str.replace('image','mask')\n",
    "path_df['id'] = path_df.image_path.map(lambda x: x.split('/')[-1].replace('.npy',''))\n",
    "path_df.head()"
   ]
  },
  {
   "cell_type": "code",
   "execution_count": 7,
   "metadata": {
    "cellId": "nj3dy5c4sxps0s2kes9auq"
   },
   "outputs": [
    {
     "data": {
      "text/html": [
       "<div>\n",
       "<style scoped>\n",
       "    .dataframe tbody tr th:only-of-type {\n",
       "        vertical-align: middle;\n",
       "    }\n",
       "\n",
       "    .dataframe tbody tr th {\n",
       "        vertical-align: top;\n",
       "    }\n",
       "\n",
       "    .dataframe thead th {\n",
       "        text-align: right;\n",
       "    }\n",
       "</style>\n",
       "<table border=\"1\" class=\"dataframe\">\n",
       "  <thead>\n",
       "    <tr style=\"text-align: right;\">\n",
       "      <th></th>\n",
       "      <th>id</th>\n",
       "      <th>case</th>\n",
       "      <th>day</th>\n",
       "      <th>slice</th>\n",
       "      <th>height</th>\n",
       "      <th>width</th>\n",
       "      <th>segmentation</th>\n",
       "      <th>rle_len</th>\n",
       "      <th>empty</th>\n",
       "      <th>image_path</th>\n",
       "      <th>mask_path</th>\n",
       "    </tr>\n",
       "  </thead>\n",
       "  <tbody>\n",
       "    <tr>\n",
       "      <th>0</th>\n",
       "      <td>case123_day20_slice_0001</td>\n",
       "      <td>123</td>\n",
       "      <td>20</td>\n",
       "      <td>1</td>\n",
       "      <td>266</td>\n",
       "      <td>266</td>\n",
       "      <td>[, , ]</td>\n",
       "      <td>0</td>\n",
       "      <td>True</td>\n",
       "      <td>/home/jupyter/mnt/datasets/uw_dataset_512_25D/...</td>\n",
       "      <td>/home/jupyter/mnt/datasets/uw_dataset_512_25D/...</td>\n",
       "    </tr>\n",
       "    <tr>\n",
       "      <th>1</th>\n",
       "      <td>case123_day20_slice_0002</td>\n",
       "      <td>123</td>\n",
       "      <td>20</td>\n",
       "      <td>2</td>\n",
       "      <td>266</td>\n",
       "      <td>266</td>\n",
       "      <td>[, , ]</td>\n",
       "      <td>0</td>\n",
       "      <td>True</td>\n",
       "      <td>/home/jupyter/mnt/datasets/uw_dataset_512_25D/...</td>\n",
       "      <td>/home/jupyter/mnt/datasets/uw_dataset_512_25D/...</td>\n",
       "    </tr>\n",
       "    <tr>\n",
       "      <th>2</th>\n",
       "      <td>case123_day20_slice_0003</td>\n",
       "      <td>123</td>\n",
       "      <td>20</td>\n",
       "      <td>3</td>\n",
       "      <td>266</td>\n",
       "      <td>266</td>\n",
       "      <td>[, , ]</td>\n",
       "      <td>0</td>\n",
       "      <td>True</td>\n",
       "      <td>/home/jupyter/mnt/datasets/uw_dataset_512_25D/...</td>\n",
       "      <td>/home/jupyter/mnt/datasets/uw_dataset_512_25D/...</td>\n",
       "    </tr>\n",
       "    <tr>\n",
       "      <th>3</th>\n",
       "      <td>case123_day20_slice_0004</td>\n",
       "      <td>123</td>\n",
       "      <td>20</td>\n",
       "      <td>4</td>\n",
       "      <td>266</td>\n",
       "      <td>266</td>\n",
       "      <td>[, , ]</td>\n",
       "      <td>0</td>\n",
       "      <td>True</td>\n",
       "      <td>/home/jupyter/mnt/datasets/uw_dataset_512_25D/...</td>\n",
       "      <td>/home/jupyter/mnt/datasets/uw_dataset_512_25D/...</td>\n",
       "    </tr>\n",
       "    <tr>\n",
       "      <th>4</th>\n",
       "      <td>case123_day20_slice_0005</td>\n",
       "      <td>123</td>\n",
       "      <td>20</td>\n",
       "      <td>5</td>\n",
       "      <td>266</td>\n",
       "      <td>266</td>\n",
       "      <td>[, , ]</td>\n",
       "      <td>0</td>\n",
       "      <td>True</td>\n",
       "      <td>/home/jupyter/mnt/datasets/uw_dataset_512_25D/...</td>\n",
       "      <td>/home/jupyter/mnt/datasets/uw_dataset_512_25D/...</td>\n",
       "    </tr>\n",
       "  </tbody>\n",
       "</table>\n",
       "</div>"
      ],
      "text/plain": [
       "                         id  case  day  slice  height  width segmentation  \\\n",
       "0  case123_day20_slice_0001   123   20      1     266    266       [, , ]   \n",
       "1  case123_day20_slice_0002   123   20      2     266    266       [, , ]   \n",
       "2  case123_day20_slice_0003   123   20      3     266    266       [, , ]   \n",
       "3  case123_day20_slice_0004   123   20      4     266    266       [, , ]   \n",
       "4  case123_day20_slice_0005   123   20      5     266    266       [, , ]   \n",
       "\n",
       "   rle_len  empty                                         image_path  \\\n",
       "0        0   True  /home/jupyter/mnt/datasets/uw_dataset_512_25D/...   \n",
       "1        0   True  /home/jupyter/mnt/datasets/uw_dataset_512_25D/...   \n",
       "2        0   True  /home/jupyter/mnt/datasets/uw_dataset_512_25D/...   \n",
       "3        0   True  /home/jupyter/mnt/datasets/uw_dataset_512_25D/...   \n",
       "4        0   True  /home/jupyter/mnt/datasets/uw_dataset_512_25D/...   \n",
       "\n",
       "                                           mask_path  \n",
       "0  /home/jupyter/mnt/datasets/uw_dataset_512_25D/...  \n",
       "1  /home/jupyter/mnt/datasets/uw_dataset_512_25D/...  \n",
       "2  /home/jupyter/mnt/datasets/uw_dataset_512_25D/...  \n",
       "3  /home/jupyter/mnt/datasets/uw_dataset_512_25D/...  \n",
       "4  /home/jupyter/mnt/datasets/uw_dataset_512_25D/...  "
      ]
     },
     "execution_count": 7,
     "metadata": {},
     "output_type": "execute_result"
    }
   ],
   "source": [
    "#!g1.1\n",
    "df = pd.read_csv('df_train.csv')\n",
    "df['segmentation'] = df.segmentation.fillna('')\n",
    "df['rle_len'] = df.segmentation.map(len) # length of each rle mask\n",
    "\n",
    "df2 = df.groupby(['id'])['segmentation'].agg(list).to_frame().reset_index() # rle list of each id\n",
    "df2 = df2.merge(df.groupby(['id'])['rle_len'].agg(sum).to_frame().reset_index()) # total length of all rles of each id\n",
    "\n",
    "df = df.drop(columns=['segmentation', 'class', 'rle_len'])\n",
    "df = df.groupby(['id']).head(1).reset_index(drop=True)\n",
    "df = df.merge(df2, on=['id'])\n",
    "df['empty'] = (df.rle_len==0) # empty masks\n",
    "\n",
    "df = df.drop(columns=['image_path','mask_path'])\n",
    "df = df.merge(path_df, on=['id'])\n",
    "df.head()"
   ]
  },
  {
   "cell_type": "code",
   "execution_count": 8,
   "metadata": {
    "cellId": "7e8skkl9d2nqd3pl2drq3"
   },
   "outputs": [
    {
     "data": {
      "text/html": [
       "<div>\n",
       "<style scoped>\n",
       "    .dataframe tbody tr th:only-of-type {\n",
       "        vertical-align: middle;\n",
       "    }\n",
       "\n",
       "    .dataframe tbody tr th {\n",
       "        vertical-align: top;\n",
       "    }\n",
       "\n",
       "    .dataframe thead th {\n",
       "        text-align: right;\n",
       "    }\n",
       "</style>\n",
       "<table border=\"1\" class=\"dataframe\">\n",
       "  <thead>\n",
       "    <tr style=\"text-align: right;\">\n",
       "      <th></th>\n",
       "      <th>id</th>\n",
       "      <th>case</th>\n",
       "      <th>day</th>\n",
       "      <th>slice</th>\n",
       "      <th>height</th>\n",
       "      <th>width</th>\n",
       "      <th>segmentation</th>\n",
       "      <th>rle_len</th>\n",
       "      <th>empty</th>\n",
       "      <th>image_path</th>\n",
       "      <th>mask_path</th>\n",
       "    </tr>\n",
       "  </thead>\n",
       "  <tbody>\n",
       "    <tr>\n",
       "      <th>0</th>\n",
       "      <td>case123_day20_slice_0001</td>\n",
       "      <td>123</td>\n",
       "      <td>20</td>\n",
       "      <td>1</td>\n",
       "      <td>266</td>\n",
       "      <td>266</td>\n",
       "      <td>[, , ]</td>\n",
       "      <td>0</td>\n",
       "      <td>True</td>\n",
       "      <td>/home/jupyter/mnt/datasets/uw_dataset_512_25D/...</td>\n",
       "      <td>/home/jupyter/mnt/datasets/uw_dataset_512_25D/...</td>\n",
       "    </tr>\n",
       "    <tr>\n",
       "      <th>1</th>\n",
       "      <td>case123_day20_slice_0002</td>\n",
       "      <td>123</td>\n",
       "      <td>20</td>\n",
       "      <td>2</td>\n",
       "      <td>266</td>\n",
       "      <td>266</td>\n",
       "      <td>[, , ]</td>\n",
       "      <td>0</td>\n",
       "      <td>True</td>\n",
       "      <td>/home/jupyter/mnt/datasets/uw_dataset_512_25D/...</td>\n",
       "      <td>/home/jupyter/mnt/datasets/uw_dataset_512_25D/...</td>\n",
       "    </tr>\n",
       "    <tr>\n",
       "      <th>2</th>\n",
       "      <td>case123_day20_slice_0003</td>\n",
       "      <td>123</td>\n",
       "      <td>20</td>\n",
       "      <td>3</td>\n",
       "      <td>266</td>\n",
       "      <td>266</td>\n",
       "      <td>[, , ]</td>\n",
       "      <td>0</td>\n",
       "      <td>True</td>\n",
       "      <td>/home/jupyter/mnt/datasets/uw_dataset_512_25D/...</td>\n",
       "      <td>/home/jupyter/mnt/datasets/uw_dataset_512_25D/...</td>\n",
       "    </tr>\n",
       "    <tr>\n",
       "      <th>3</th>\n",
       "      <td>case123_day20_slice_0004</td>\n",
       "      <td>123</td>\n",
       "      <td>20</td>\n",
       "      <td>4</td>\n",
       "      <td>266</td>\n",
       "      <td>266</td>\n",
       "      <td>[, , ]</td>\n",
       "      <td>0</td>\n",
       "      <td>True</td>\n",
       "      <td>/home/jupyter/mnt/datasets/uw_dataset_512_25D/...</td>\n",
       "      <td>/home/jupyter/mnt/datasets/uw_dataset_512_25D/...</td>\n",
       "    </tr>\n",
       "    <tr>\n",
       "      <th>4</th>\n",
       "      <td>case123_day20_slice_0005</td>\n",
       "      <td>123</td>\n",
       "      <td>20</td>\n",
       "      <td>5</td>\n",
       "      <td>266</td>\n",
       "      <td>266</td>\n",
       "      <td>[, , ]</td>\n",
       "      <td>0</td>\n",
       "      <td>True</td>\n",
       "      <td>/home/jupyter/mnt/datasets/uw_dataset_512_25D/...</td>\n",
       "      <td>/home/jupyter/mnt/datasets/uw_dataset_512_25D/...</td>\n",
       "    </tr>\n",
       "  </tbody>\n",
       "</table>\n",
       "</div>"
      ],
      "text/plain": [
       "                         id  case  day  slice  height  width segmentation  \\\n",
       "0  case123_day20_slice_0001   123   20      1     266    266       [, , ]   \n",
       "1  case123_day20_slice_0002   123   20      2     266    266       [, , ]   \n",
       "2  case123_day20_slice_0003   123   20      3     266    266       [, , ]   \n",
       "3  case123_day20_slice_0004   123   20      4     266    266       [, , ]   \n",
       "4  case123_day20_slice_0005   123   20      5     266    266       [, , ]   \n",
       "\n",
       "   rle_len  empty                                         image_path  \\\n",
       "0        0   True  /home/jupyter/mnt/datasets/uw_dataset_512_25D/...   \n",
       "1        0   True  /home/jupyter/mnt/datasets/uw_dataset_512_25D/...   \n",
       "2        0   True  /home/jupyter/mnt/datasets/uw_dataset_512_25D/...   \n",
       "3        0   True  /home/jupyter/mnt/datasets/uw_dataset_512_25D/...   \n",
       "4        0   True  /home/jupyter/mnt/datasets/uw_dataset_512_25D/...   \n",
       "\n",
       "                                           mask_path  \n",
       "0  /home/jupyter/mnt/datasets/uw_dataset_512_25D/...  \n",
       "1  /home/jupyter/mnt/datasets/uw_dataset_512_25D/...  \n",
       "2  /home/jupyter/mnt/datasets/uw_dataset_512_25D/...  \n",
       "3  /home/jupyter/mnt/datasets/uw_dataset_512_25D/...  \n",
       "4  /home/jupyter/mnt/datasets/uw_dataset_512_25D/...  "
      ]
     },
     "execution_count": 8,
     "metadata": {},
     "output_type": "execute_result"
    }
   ],
   "source": [
    "#!g1.1\n",
    "fault1 = 'case7_day0'\n",
    "fault2 = 'case81_day30'\n",
    "df = df[~df['id'].str.contains(fault1) & ~df['id'].str.contains(fault2)].reset_index(drop=True)\n",
    "df.head()"
   ]
  },
  {
   "cell_type": "code",
   "execution_count": 9,
   "metadata": {
    "cellId": "5nqpuu6clocj92vr0ehiyl"
   },
   "outputs": [],
   "source": [
    "#!g1.1\n",
    "def id2mask(id_):\n",
    "    idf = df[df['id']==id_]\n",
    "    wh = idf[['height','width']].iloc[0]\n",
    "    shape = (wh.height, wh.width, 3)\n",
    "    mask = np.zeros(shape, dtype=np.uint8)\n",
    "    for i, class_ in enumerate(['large_bowel', 'small_bowel', 'stomach']):\n",
    "        cdf = idf[idf['class']==class_]\n",
    "        rle = cdf.segmentation.squeeze()\n",
    "        if len(cdf) and not pd.isna(rle):\n",
    "            mask[..., i] = rle_decode(rle, shape[:2])\n",
    "    return mask\n",
    "\n",
    "def rgb2gray(mask):\n",
    "    pad_mask = np.pad(mask, pad_width=[(0,0),(0,0),(1,0)])\n",
    "    gray_mask = pad_mask.argmax(-1)\n",
    "    return gray_mask\n",
    "\n",
    "def gray2rgb(mask):\n",
    "    rgb_mask = tf.keras.utils.to_categorical(mask, num_classes=4)\n",
    "    return rgb_mask[..., 1:].astype(mask.dtype)"
   ]
  },
  {
   "cell_type": "code",
   "execution_count": 10,
   "metadata": {
    "cellId": "x1wpnl7yoogm63lbmffgk"
   },
   "outputs": [],
   "source": [
    "#!g1.1\n",
    "def load_img(path):\n",
    "    #print(f'path: {path}\\n')\n",
    "    img = np.load(path)\n",
    "    #print(f'shape: {img.shape} {path}\\n')\n",
    "    img = img.astype('float32') # original is uint16\n",
    "    mx = np.max(img)\n",
    "    if mx:\n",
    "        img/=mx # scale image to [0, 1]\n",
    "    return img\n",
    "\n",
    "def load_msk(path):\n",
    "    #print(f'path: {path}\\n')\n",
    "    msk = np.load(path)\n",
    "    #print(f'shape: {msk.shape} {path}\\n')\n",
    "    msk = msk.astype('float32')\n",
    "    msk/=255.0\n",
    "    return msk\n",
    "    \n",
    "\n",
    "def show_img(img, mask=None):\n",
    "    clahe = cv2.createCLAHE(clipLimit=2.0, tileGridSize=(8,8))\n",
    "#     img = clahe.apply(img)\n",
    "#     plt.figure(figsize=(10,10))\n",
    "    plt.imshow(img, cmap='bone')\n",
    "    \n",
    "    if mask is not None:\n",
    "        # plt.imshow(np.ma.masked_where(mask!=1, mask), alpha=0.5, cmap='autumn')\n",
    "        plt.imshow(mask, alpha=0.5)\n",
    "        handles = [Rectangle((0,0),1,1, color=_c) for _c in [(0.667,0.0,0.0), (0.0,0.667,0.0), (0.0,0.0,0.667)]]\n",
    "        labels = [\"Large Bowel\", \"Small Bowel\", \"Stomach\"]\n",
    "        plt.legend(handles,labels)\n",
    "    plt.axis('off')"
   ]
  },
  {
   "cell_type": "code",
   "execution_count": 11,
   "metadata": {
    "cellId": "r279g2ebe98b6nhy9burpl"
   },
   "outputs": [],
   "source": [
    "#!g1.1\n",
    "# ref: https://www.kaggle.com/paulorzp/run-length-encode-and-decode\n",
    "def rle_decode(mask_rle, shape):\n",
    "    '''\n",
    "    mask_rle: run-length as string formated (start length)\n",
    "    shape: (height,width) of array to return \n",
    "    Returns numpy array, 1 - mask, 0 - background\n",
    "\n",
    "    '''\n",
    "    s = mask_rle.split()\n",
    "    starts, lengths = [np.asarray(x, dtype=int) for x in (s[0:][::2], s[1:][::2])]\n",
    "    starts -= 1\n",
    "    ends = starts + lengths\n",
    "    img = np.zeros(shape[0]*shape[1], dtype=np.uint8)\n",
    "    for lo, hi in zip(starts, ends):\n",
    "        img[lo:hi] = 1\n",
    "    return img.reshape(shape)  # Needed to align to RLE direction\n",
    "\n",
    "\n",
    "# ref.: https://www.kaggle.com/stainsby/fast-tested-rle\n",
    "def rle_encode(img):\n",
    "    '''\n",
    "    img: numpy array, 1 - mask, 0 - background\n",
    "    Returns run length as string formated\n",
    "    '''\n",
    "    pixels = img.flatten()\n",
    "    pixels = np.concatenate([[0], pixels, [0]])\n",
    "    runs = np.where(pixels[1:] != pixels[:-1])[0] + 1\n",
    "    runs[1::2] -= runs[::2]\n",
    "    return ' '.join(str(x) for x in runs)"
   ]
  },
  {
   "cell_type": "code",
   "execution_count": 12,
   "metadata": {
    "cellId": "ej9g0zjvphffimyxtbj66r"
   },
   "outputs": [
    {
     "data": {
      "text/plain": [
       "fold  empty\n",
       "0.0   False    3374\n",
       "      True     4706\n",
       "1.0   False    4112\n",
       "      True     4896\n",
       "2.0   False    2973\n",
       "      True     3827\n",
       "3.0   False    3407\n",
       "      True     4689\n",
       "4.0   False    2627\n",
       "      True     3597\n",
       "Name: id, dtype: int64"
      ]
     },
     "metadata": {},
     "output_type": "display_data"
    }
   ],
   "source": [
    "#!g1.1\n",
    "skf = StratifiedGroupKFold(n_splits=CFG.n_fold, shuffle=True, random_state=CFG.seed)\n",
    "for fold, (train_idx, val_idx) in enumerate(skf.split(df, df['empty'], groups = df[\"case\"])):\n",
    "    df.loc[val_idx, 'fold'] = fold\n",
    "display(df.groupby(['fold','empty'])['id'].count())"
   ]
  },
  {
   "cell_type": "code",
   "execution_count": 13,
   "metadata": {
    "cellId": "ttymoa2gsfnoppyb6zc97d"
   },
   "outputs": [],
   "source": [
    "#!g1.1\n",
    "class BuildDataset(torch.utils.data.Dataset):\n",
    "    def __init__(self, df, label=True, transforms=None):\n",
    "        self.df         = df\n",
    "        self.label      = label\n",
    "        self.img_paths  = df['image_path'].tolist()\n",
    "        self.msk_paths  = df['mask_path'].tolist()\n",
    "        self.transforms = transforms\n",
    "        \n",
    "    def __len__(self):\n",
    "        return len(self.df)\n",
    "    \n",
    "    def __getitem__(self, index):\n",
    "        img_path  = self.img_paths[index]\n",
    "        img = []\n",
    "        img = load_img(img_path)\n",
    "        #print(f'img_p: {img.shape} {img_path}\\n')\n",
    "        \n",
    "        if self.label:\n",
    "            msk_path = self.msk_paths[index]\n",
    "            msk = load_msk(msk_path)\n",
    "            #print(f'msk_p: {msk.shape} {msk_path}\\n')\n",
    "            if self.transforms:\n",
    "                data = self.transforms(image=img, mask=msk)\n",
    "                img  = data['image']\n",
    "                msk  = data['mask']\n",
    "            img = np.transpose(img, (2, 0, 1))\n",
    "            msk = np.transpose(msk, (2, 0, 1))\n",
    "            #print(f'img: {img.shape} msk: {msk.shape}')\n",
    "            return torch.tensor(img), torch.tensor(msk)\n",
    "        else:\n",
    "            if self.transforms:\n",
    "                data = self.transforms(image=img)\n",
    "                img  = data['image']\n",
    "            img = np.transpose(img, (2, 0, 1))\n",
    "            return torch.tensor(img)"
   ]
  },
  {
   "cell_type": "code",
   "execution_count": 14,
   "metadata": {
    "cellId": "ccefwj5akvrfvbiq3nmzs8"
   },
   "outputs": [],
   "source": [
    "#!g1.1\n",
    "data_transforms = {\n",
    "    \"train\": A.Compose([\n",
    "#         A.Resize(*CFG.img_size, interpolation=cv2.INTER_NEAREST),\n",
    "        A.HorizontalFlip(p=0.5),\n",
    "#         A.VerticalFlip(p=0.5),\n",
    "        A.ShiftScaleRotate(shift_limit=0.0625, scale_limit=0.05, rotate_limit=10, p=0.5),\n",
    "        A.OneOf([\n",
    "            A.GridDistortion(num_steps=5, distort_limit=0.05, p=1.0),\n",
    "# #             A.OpticalDistortion(distort_limit=0.05, shift_limit=0.05, p=1.0),\n",
    "            A.ElasticTransform(alpha=1, sigma=50, alpha_affine=50, p=1.0)\n",
    "        ], p=0.25),\n",
    "        A.CoarseDropout(max_holes=8, max_height=CFG.img_size[0]//20, max_width=CFG.img_size[1]//20,\n",
    "                         min_holes=5, fill_value=0, mask_fill_value=0, p=0.5),\n",
    "        ], p=1.0),\n",
    "    \n",
    "    \"valid\": A.Compose([\n",
    "#         A.Resize(*CFG.img_size, interpolation=cv2.INTER_NEAREST),\n",
    "        ], p=1.0)\n",
    "}"
   ]
  },
  {
   "cell_type": "code",
   "execution_count": 15,
   "metadata": {
    "cellId": "q6itlwsdmcoxxgqmet0bh"
   },
   "outputs": [],
   "source": [
    "#!g1.1\n",
    "def prepare_loaders(fold, debug=False):\n",
    "    train_df = df.query(\"fold!=@fold\").reset_index(drop=True)\n",
    "    valid_df = df.query(\"fold==@fold\").reset_index(drop=True)\n",
    "    if debug:\n",
    "        train_df = train_df.head(32*5).query(\"empty==0\")\n",
    "        valid_df = valid_df.head(32*3).query(\"empty==0\")\n",
    "    train_dataset = BuildDataset(train_df, transforms=data_transforms['train'])\n",
    "    valid_dataset = BuildDataset(valid_df, transforms=data_transforms['valid'])\n",
    "\n",
    "    train_loader = DataLoader(train_dataset, batch_size=CFG.train_bs if not debug else 20, \n",
    "                              num_workers=4, shuffle=True, pin_memory=True, drop_last=False)\n",
    "    valid_loader = DataLoader(valid_dataset, batch_size=CFG.valid_bs if not debug else 20, \n",
    "                              num_workers=4, shuffle=False, pin_memory=True)\n",
    "    \n",
    "    return train_loader, valid_loader"
   ]
  },
  {
   "cell_type": "code",
   "execution_count": 16,
   "metadata": {
    "cellId": "ie67emfbxqu2oe7r6brhb"
   },
   "outputs": [],
   "source": [
    "#!g1.1\n",
    "train_loader, valid_loader = prepare_loaders(fold=0, debug=True)"
   ]
  },
  {
   "cell_type": "code",
   "execution_count": 17,
   "metadata": {
    "cellId": "59jrj00czfaoeu7skvnjyl"
   },
   "outputs": [
    {
     "data": {
      "text/plain": [
       "(torch.Size([20, 3, 512, 512]), torch.Size([20, 3, 512, 512]))"
      ]
     },
     "execution_count": 17,
     "metadata": {},
     "output_type": "execute_result"
    }
   ],
   "source": [
    "#!g1.1\n",
    "imgs, msks = next(iter(train_loader))\n",
    "imgs.size(), msks.size()"
   ]
  },
  {
   "cell_type": "code",
   "execution_count": 18,
   "metadata": {
    "cellId": "v7peq12w1sl5p1dr81apal"
   },
   "outputs": [],
   "source": [
    "#!g1.1\n",
    "def plot_batch(imgs, msks, size=3):\n",
    "    plt.figure(figsize=(5*5, 5))\n",
    "    for idx in range(size):\n",
    "        plt.subplot(1, 5, idx+1)\n",
    "        img = imgs[idx,].permute((1, 2, 0)).numpy()*255.0\n",
    "        img = img.astype('uint8')\n",
    "        msk = msks[idx,].permute((1, 2, 0)).numpy()*255.0\n",
    "        show_img(img, msk)\n",
    "    plt.tight_layout()\n",
    "    plt.show()"
   ]
  },
  {
   "cell_type": "code",
   "execution_count": 19,
   "metadata": {
    "cellId": "52prnc2pegkkknmh0smxz"
   },
   "outputs": [
    {
     "name": "stderr",
     "output_type": "stream",
     "text": [
      "Clipping input data to the valid range for imshow with RGB data ([0..1] for floats or [0..255] for integers).\n",
      "Clipping input data to the valid range for imshow with RGB data ([0..1] for floats or [0..255] for integers).\n",
      "Clipping input data to the valid range for imshow with RGB data ([0..1] for floats or [0..255] for integers).\n",
      "Clipping input data to the valid range for imshow with RGB data ([0..1] for floats or [0..255] for integers).\n",
      "Clipping input data to the valid range for imshow with RGB data ([0..1] for floats or [0..255] for integers).\n"
     ]
    },
    {
     "data": {
      "image/png": "[encoded data removed]",
      "text/plain": [
       "<Figure size 1800x360 with 5 Axes>"
      ]
     },
     "metadata": {
      "needs_background": "light"
     },
     "output_type": "display_data"
    }
   ],
   "source": [
    "#!g1.1\n",
    "plot_batch(imgs, msks, size=5)"
   ]
  },
  {
   "cell_type": "code",
   "execution_count": 20,
   "metadata": {
    "cellId": "p44bik93jr38slj977hzg"
   },
   "outputs": [
    {
     "data": {
      "text/plain": [
       "13971"
      ]
     },
     "execution_count": 20,
     "metadata": {},
     "output_type": "execute_result"
    }
   ],
   "source": [
    "#!g1.1\n",
    "import gc\n",
    "gc.collect()"
   ]
  },
  {
   "cell_type": "code",
   "execution_count": 21,
   "metadata": {
    "cellId": "8kk5vnm6hx54ye8zzyjhjh"
   },
   "outputs": [],
   "source": [
    "#!g1.1\n",
    "import segmentation_models_pytorch as smp\n",
    "\n",
    "def build_model():\n",
    "    model = smp.Unet(\n",
    "        encoder_name=CFG.backbone,      # choose encoder, e.g. mobilenet_v2 or efficientnet-b7\n",
    "        encoder_weights=\"imagenet\",     # use `imagenet` pre-trained weights for encoder initialization\n",
    "        in_channels=CFG.input_chnls,    # model input channels (1 for gray-scale images, 3 for RGB, etc.)\n",
    "        classes=CFG.num_classes,        # model output channels (number of classes in your dataset)\n",
    "        activation=None,\n",
    "    )\n",
    "    model.to(CFG.device)\n",
    "    return model\n",
    "\n",
    "def load_model(path):\n",
    "    model = build_model()\n",
    "    model.load_state_dict(torch.load(path))\n",
    "    model.eval()\n",
    "    return model"
   ]
  },
  {
   "cell_type": "code",
   "execution_count": 22,
   "metadata": {
    "cellId": "0piio3iwmw48hbynb0yen5"
   },
   "outputs": [],
   "source": [
    "#!g1.1\n",
    "JaccardLoss = smp.losses.JaccardLoss(mode='multilabel')\n",
    "DiceLoss    = smp.losses.DiceLoss(mode='multilabel')\n",
    "BCELoss     = smp.losses.SoftBCEWithLogitsLoss()\n",
    "LovaszLoss  = smp.losses.LovaszLoss(mode='multilabel', per_image=False)\n",
    "TverskyLoss = smp.losses.TverskyLoss(mode='multilabel', log_loss=False)\n",
    "\n",
    "JaccardLoss = smp.losses.JaccardLoss(mode='multilabel')\n",
    "DiceLoss    = smp.losses.DiceLoss(mode='multilabel')\n",
    "BCELoss     = smp.losses.SoftBCEWithLogitsLoss()\n",
    "LovaszLoss  = smp.losses.LovaszLoss(mode='multilabel', per_image=False)\n",
    "TverskyLoss = smp.losses.TverskyLoss(mode='multilabel', log_loss=False)\n",
    "\n",
    "def dice_coef(y_true, y_pred, thr=0.5, dim=(2,3), epsilon=0.001):\n",
    "    y_true = y_true.to(torch.float32)\n",
    "    y_pred = (y_pred>thr).to(torch.float32)\n",
    "    inter = (y_true*y_pred).sum(dim=dim)\n",
    "    den = y_true.sum(dim=dim) + y_pred.sum(dim=dim)\n",
    "    dice = ((2*inter+epsilon)/(den+epsilon)).mean(dim=(1,0))\n",
    "    return dice\n",
    "\n",
    "def iou_coef(y_true, y_pred, thr=0.5, dim=(2,3), epsilon=0.001):\n",
    "    y_true = y_true.to(torch.float32)\n",
    "    y_pred = (y_pred>thr).to(torch.float32)\n",
    "    inter = (y_true*y_pred).sum(dim=dim)\n",
    "    union = (y_true + y_pred - y_true*y_pred).sum(dim=dim)\n",
    "    iou = ((inter+epsilon)/(union+epsilon)).mean(dim=(1,0))\n",
    "    return iou\n",
    "\n",
    "def criterion(y_pred, y_true):\n",
    "    return 0.5*BCELoss(y_pred, y_true) + 0.5*DiceLoss(y_pred, y_true)\n",
    "\n",
    "#ref https://www.kaggle.com/code/yiheng/50-times-faster-way-get-hausdorff-with-monai\n",
    "def hd_coef(y_pred,y_true,max_dist):\n",
    "    \n",
    "    if np.all(y_pred == y_true):\n",
    "        return 0.0    \n",
    "    \n",
    "    dist = directed_hausdorff(np.argwhere(y_pred),np.argwhere(y_true))[0]\n",
    "    \n",
    "    if dist > max_dist:\n",
    "        return 1.0\n",
    "    \n",
    "    return dist / max_dist\n",
    "\n",
    "def hd_coef_monai(y_pred, y_true, max_dist):\n",
    "    if np.all(y_pred == y_true):\n",
    "        return 0.0\n",
    "    (edges_pred, edges_true) = get_mask_edges(y_pred, y_true)\n",
    "    surface_distance = get_surface_distance(edges_pred, edges_true, distance_metric=\"euclidean\")\n",
    "    if surface_distance.shape == (0,):\n",
    "        return 0.0\n",
    "    dist = surface_distance.max()\n",
    "    if dist > max_dist:\n",
    "        return 1.0\n",
    "    return dist / max_dist"
   ]
  },
  {
   "cell_type": "code",
   "execution_count": 23,
   "metadata": {
    "cellId": "sjyg4oo5f4bd78vv9elr2u"
   },
   "outputs": [],
   "source": [
    "#!g1.1\n",
    "def train_one_epoch(model, optimizer, scheduler, dataloader, device, epoch, history, best_params):\n",
    "    model.train()\n",
    "    scaler = amp.GradScaler()\n",
    "    \n",
    "    dataset_size = 0\n",
    "    running_loss = 0.0\n",
    "    \n",
    "    dataloader_len = len(dataloader)\n",
    "   \n",
    "    \n",
    "    pbar = tqdm(enumerate(dataloader), total=dataloader_len, desc='Train ')\n",
    "    pbar_len = len(pbar)\n",
    "    for step, (images, masks) in pbar:    \n",
    "        #print(f'img: {images.shape} msk: {masks.shape}')\n",
    "        images = images.to(device, dtype=torch.float)\n",
    "        masks  = masks.to(device, dtype=torch.float)\n",
    "        \n",
    "        batch_size = images.size(0)\n",
    "        \n",
    "        with amp.autocast(enabled=True):\n",
    "            y_pred = model(images)\n",
    "            loss   = criterion(y_pred, masks)\n",
    "            loss   = loss / CFG.n_accumulate\n",
    "            \n",
    "        scaler.scale(loss).backward()\n",
    "    \n",
    "        if (step + 1) % CFG.n_accumulate == 0:\n",
    "            scaler.step(optimizer)\n",
    "            scaler.update()\n",
    "\n",
    "            # zero the parameter gradients\n",
    "            optimizer.zero_grad()\n",
    "\n",
    "            if scheduler is not None:\n",
    "                scheduler.step()\n",
    "        \n",
    "        #print(f'loss={loss.item()}')\n",
    "        running_loss += (loss.item() * batch_size)\n",
    "        dataset_size += batch_size\n",
    "        \n",
    "        #print(f'r_loss={running_loss} ds_size={dataset_size}')\n",
    "        train_loss = running_loss / dataset_size\n",
    "        #print(f't_loss={train_loss}')\n",
    "        \n",
    "        mem = torch.cuda.memory_reserved() / 1E9 if torch.cuda.is_available() else 0\n",
    "        current_lr = optimizer.param_groups[0]['lr']\n",
    "        pbar.set_postfix(train_loss=f'{train_loss:0.4f}',\n",
    "                        lr=f'{current_lr:0.5f}',\n",
    "                        gpu_mem=f'{mem:0.2f} GB')\n",
    "        \n",
    "        if(step+1) % (dataloader_len//CFG.val_freq) == 0:\n",
    "            \n",
    "            \n",
    "            val_dice,val_jaccard,val_loss,val_hd_monai=do_valid(model,valid_loader,device)\n",
    "            \n",
    "    \n",
    "            \n",
    "            val_kaggle_metric = 0.4*val_dice+0.6*(1-val_hd_monai)\n",
    "            history['Train Loss'].append(train_loss)\n",
    "            history['Valid Loss'].append(val_loss)\n",
    "            history['Valid Dice'].append(val_dice)\n",
    "            history['Valid HD'].append(val_hd_monai)\n",
    "            history['Valid Kaggle Meteic'].append(val_kaggle_metric)\n",
    "            history['Valid Jaccard'].append(val_jaccard)\n",
    "    \n",
    "            # Log the metrics\n",
    "            wandb.log({\"Train Loss\": train_loss, \n",
    "               \"Valid Loss\": val_loss,\n",
    "               \"Valid Dice\": val_dice,\n",
    "               \"Valid HD\": val_hd_monai,\n",
    "               \"Valid Kaggle Metric\": val_kaggle_metric,\n",
    "               \"Valid Jaccard\": val_jaccard,\n",
    "               \"LR\":scheduler.get_last_lr()[0]})\n",
    "    \n",
    "            print(f'Valid Dice: {val_dice:0.4f} | Valid Jaccard: {val_jaccard:0.4f} | '\\\n",
    "                  f'1 - Valid HD monai: {1 - val_hd_monai:0.4f} | '\\\n",
    "                  f'Valid kaggle metric: {val_kaggle_metric: 0.4f}')\n",
    "           \n",
    "    \n",
    "            \n",
    "            if val_dice > best_params['best_dice']:\n",
    "                print(f\"{c_}Valid Score Improved ({best_params['best_dice']:0.4f} ---> {val_dice:0.4f})\")\n",
    "               \n",
    "                best_params['best_dice'] = val_dice\n",
    "                best_params['best_jaccard'] = val_jaccard\n",
    "                best_params['best_epoch'] = epoch\n",
    "                \n",
    "                run.summary[\"Best Dice\"]    = val_dice\n",
    "                run.summary[\"Best Jaccard\"] = val_jaccard\n",
    "                run.summary[\"Best Epoch\"]   = epoch\n",
    "                \n",
    "                PATH = EXPERIMENT_DIR+f\"best_valid-{fold:02d}_{val_dice:0.4f}.bin\"\n",
    "                torch.save(model.state_dict(), PATH)\n",
    "                # Save a model file from the current directory\n",
    "                wandb.save(PATH)\n",
    "                print(f\"Model Saved{sr_}\")\n",
    "                \n",
    "            \n",
    "            \n",
    "    torch.cuda.empty_cache()\n",
    "    gc.collect()\n",
    "    \n",
    "    return"
   ]
  },
  {
   "cell_type": "code",
   "execution_count": 24,
   "metadata": {
    "cellId": "25loo1e5gag262h42lfwnr"
   },
   "outputs": [],
   "source": [
    "#!g1.1\n",
    "@torch.no_grad()\n",
    "def do_valid(model, dataloader, device):\n",
    "    model.eval()\n",
    "    \n",
    "    dataset_size = 0\n",
    "    running_loss = 0.0\n",
    "    \n",
    "    val_scores = []\n",
    "    \n",
    "    dataloader_len = len(dataloader)\n",
    "    \n",
    "    pbar = tqdm(enumerate(dataloader), total=dataloader_len, desc='Valid ')\n",
    "    #max_dist0 = CFG.img_size[0]**2+CFG.img_size[1]**2 \n",
    "    for step, (images, masks) in pbar:        \n",
    "        images  = images.to(device, dtype=torch.float)\n",
    "        masks   = masks.to(device, dtype=torch.float)\n",
    "        \n",
    "        batch_size = images.size(0)\n",
    "        \n",
    "        y_pred  = model(images)\n",
    "        loss    = criterion(y_pred, masks)\n",
    "        \n",
    "        running_loss += (loss.item() * batch_size)\n",
    "        dataset_size += batch_size\n",
    "        \n",
    "        val_loss = running_loss / dataset_size\n",
    "        \n",
    "        y_pred = nn.Sigmoid()(y_pred)\n",
    "        val_dice = dice_coef(masks, y_pred).cpu().detach().numpy()\n",
    "        val_jaccard = iou_coef(masks, y_pred).cpu().detach().numpy()\n",
    "        \n",
    "        #y_true_np = masks.to(torch.float32).detach().cpu().numpy()\n",
    "        #y_pred_np = (y_pred>0.5).to(torch.float32).detach().cpu().numpy()\n",
    "        \n",
    "        #max_dist = np.sqrt(max_dist0+batch_size**2)\n",
    "        #val_hd = 0\n",
    "        val_hd_monai = 0\n",
    "        #print(\"calc val_hd_monai: start\")\n",
    "        #for i in range(3):\n",
    "            #val_hd += (hd_coef(y_pred_np[:,i,:,:],y_true_np[:,i,:,:], max_dist))\n",
    "            #val_hd_monai += hd_coef_monai(y_pred_np[:,i,:,:],y_true_np[:,i,:,:],max_dist)\n",
    "        #val_hd /= 3.0\n",
    "        #val_hd_monai /= 3.0\n",
    "        #print(\"calc val_hd_monai: stop\")\n",
    "        #del y_pred_np,y_true_np\n",
    "        #gc.collect()\n",
    "        \n",
    "        val_scores.append([val_dice, val_jaccard,val_loss,val_hd_monai])\n",
    "        \n",
    "        mem = torch.cuda.memory_reserved() / 1E9 if torch.cuda.is_available() else 0\n",
    "        current_lr = optimizer.param_groups[0]['lr']\n",
    "        pbar.set_postfix(valid_loss=f'{val_loss:0.4f}',\n",
    "                        lr=f'{current_lr:0.5f}',\n",
    "                        gpu_memory=f'{mem:0.2f} GB')\n",
    "    val_scores  = np.mean(val_scores, axis=0)\n",
    "    torch.cuda.empty_cache()\n",
    "    gc.collect()\n",
    "    model.train()\n",
    "            \n",
    "    return val_scores"
   ]
  },
  {
   "cell_type": "code",
   "execution_count": 25,
   "metadata": {
    "cellId": "ehm6jk3cczfe7lz0ybnn5l"
   },
   "outputs": [],
   "source": [
    "#!g1.1\n",
    "def run_training(model, optimizer, scheduler, device, num_epochs):\n",
    "    # To automatically log gradients\n",
    "    wandb.watch(model, log_freq=100)\n",
    "    \n",
    "    if torch.cuda.is_available():\n",
    "        print(\"cuda: {}\\n\".format(torch.cuda.get_device_name()))\n",
    "    \n",
    "    start = time.time()\n",
    "   \n",
    "    best_params = {'best_dice':-np.inf,\n",
    "                   'best_jaccard': -np.inf,\n",
    "                   'best_epoch': -1}\n",
    "    \n",
    "    history = defaultdict(list)\n",
    "    \n",
    "    for epoch in range(1, num_epochs + 1): \n",
    "        gc.collect()\n",
    "        print(f'Epoch {epoch}/{num_epochs}', end='')\n",
    "        train_one_epoch(model, optimizer, scheduler, dataloader=train_loader, \n",
    "                                           device=CFG.device, epoch=epoch,history=history,best_params=best_params)            \n",
    "        print(); print()\n",
    "    \n",
    "    end = time.time()\n",
    "    time_elapsed = end - start\n",
    "    print('Training complete in {:.0f}h {:.0f}m {:.0f}s'.format(\n",
    "        time_elapsed // 3600, (time_elapsed % 3600) // 60, (time_elapsed % 3600) % 60))\n",
    "    print(\"Best Dice Score: {:.4f}\".format(best_params['best_dice']))\n",
    "\n",
    "    \n",
    "    return  history"
   ]
  },
  {
   "cell_type": "code",
   "execution_count": 26,
   "metadata": {
    "cellId": "xrco2e4x6dgyf8qzq41w0h"
   },
   "outputs": [],
   "source": [
    "#!g1.1\n",
    "def fetch_scheduler(optimizer):\n",
    "    if CFG.scheduler == 'CosineAnnealingLR':\n",
    "        scheduler = lr_scheduler.CosineAnnealingLR(optimizer,T_max=CFG.T_max, \n",
    "                                                   eta_min=CFG.min_lr)\n",
    "    elif CFG.scheduler == 'CosineAnnealingWarmRestarts':\n",
    "        scheduler = lr_scheduler.CosineAnnealingWarmRestarts(optimizer,T_0=CFG.T_0, \n",
    "                                                             eta_min=CFG.min_lr)\n",
    "    elif CFG.scheduler == 'ReduceLROnPlateau':\n",
    "        scheduler = lr_scheduler.ReduceLROnPlateau(optimizer,\n",
    "                                                   mode='min',\n",
    "                                                   factor=0.1,\n",
    "                                                   patience=7,\n",
    "                                                   threshold=0.0001,\n",
    "                                                   min_lr=CFG.min_lr,)\n",
    "    elif CFG.scheduer == 'ExponentialLR':\n",
    "        scheduler = lr_scheduler.ExponentialLR(optimizer, gamma=0.85)\n",
    "    elif CFG.scheduler == None:\n",
    "        return None\n",
    "        \n",
    "    return scheduler"
   ]
  },
  {
   "cell_type": "code",
   "execution_count": 27,
   "metadata": {
    "cellId": "0n3hvnt6m31kvmp30ptpog"
   },
   "outputs": [
    {
     "data": {
      "text/html": [
       "wandb version 0.12.17 is available!  To upgrade, please run:\n",
       " $ pip install wandb --upgrade"
      ],
      "text/plain": [
       "<IPython.core.display.HTML object>"
      ]
     },
     "metadata": {},
     "output_type": "display_data"
    },
    {
     "data": {
      "text/html": [
       "Tracking run with wandb version 0.12.16"
      ],
      "text/plain": [
       "<IPython.core.display.HTML object>"
      ]
     },
     "metadata": {},
     "output_type": "display_data"
    },
    {
     "data": {
      "text/html": [
       "Run data is saved locally in <code>/home/jupyter/work/resources/wandb/run-20220527_172930-3blq9j1r</code>"
      ],
      "text/plain": [
       "<IPython.core.display.HTML object>"
      ]
     },
     "metadata": {},
     "output_type": "display_data"
    },
    {
     "data": {
      "text/html": [
       "Syncing run <strong><a href=\"https://wandb.ai/diwert/uw-maddison-gi-tract/runs/3blq9j1r\" target=\"_blank\">fold-0|dim-512x512|model-Unet</a></strong> to <a href=\"https://wandb.ai/diwert/uw-maddison-gi-tract\" target=\"_blank\">Weights & Biases</a> (<a href=\"https://wandb.me/run\" target=\"_blank\">docs</a>)<br/>"
      ],
      "text/plain": [
       "<IPython.core.display.HTML object>"
      ]
     },
     "metadata": {},
     "output_type": "display_data"
    },
    {
     "data": {
      "application/vnd.jupyter.widget-view+json": {
       "model_id": "1c519392c5174425a004f99f3987a09b",
       "version_major": 2,
       "version_minor": 0
      },
      "text/plain": [
       "HBox(children=(HTML(value=''), FloatProgress(value=0.0, max=36804509.0), HTML(value='')))"
      ]
     },
     "metadata": {},
     "output_type": "display_data"
    },
    {
     "data": {
      "application/vnd.jupyter.widget-view+json": {
       "model_id": "405e7e3c3e004d4280184d965d16ae67",
       "version_major": 2,
       "version_minor": 0
      },
      "text/plain": [
       "HBox(children=(HTML(value='Train '), FloatProgress(value=0.0, max=471.0), HTML(value='')))"
      ]
     },
     "metadata": {},
     "output_type": "display_data"
    },
    {
     "data": {
      "application/vnd.jupyter.widget-view+json": {
       "model_id": "f07de6dd37ff420bbc3c0c3399ce94e9",
       "version_major": 2,
       "version_minor": 0
      },
      "text/plain": [
       "HBox(children=(HTML(value='Valid '), FloatProgress(value=0.0, max=64.0), HTML(value='')))"
      ]
     },
     "metadata": {},
     "output_type": "display_data"
    },
    {
     "data": {
      "application/vnd.jupyter.widget-view+json": {
       "model_id": "e4431344fe8745d3857c0c8de65ebd91",
       "version_major": 2,
       "version_minor": 0
      },
      "text/plain": [
       "HBox(children=(HTML(value='Valid '), FloatProgress(value=0.0, max=64.0), HTML(value='')))"
      ]
     },
     "metadata": {},
     "output_type": "display_data"
    },
    {
     "data": {
      "application/vnd.jupyter.widget-view+json": {
       "model_id": "4dcb2004e4e64e058a8dff5edeac5afe",
       "version_major": 2,
       "version_minor": 0
      },
      "text/plain": [
       "HBox(children=(HTML(value='Train '), FloatProgress(value=0.0, max=471.0), HTML(value='')))"
      ]
     },
     "metadata": {},
     "output_type": "display_data"
    },
    {
     "data": {
      "application/vnd.jupyter.widget-view+json": {
       "model_id": "bc98039298e8430bb9874650fd80d47b",
       "version_major": 2,
       "version_minor": 0
      },
      "text/plain": [
       "HBox(children=(HTML(value='Valid '), FloatProgress(value=0.0, max=64.0), HTML(value='')))"
      ]
     },
     "metadata": {},
     "output_type": "display_data"
    },
    {
     "data": {
      "application/vnd.jupyter.widget-view+json": {
       "model_id": "93dba35f2bd24560998deacde4b157b3",
       "version_major": 2,
       "version_minor": 0
      },
      "text/plain": [
       "HBox(children=(HTML(value='Valid '), FloatProgress(value=0.0, max=64.0), HTML(value='')))"
      ]
     },
     "metadata": {},
     "output_type": "display_data"
    },
    {
     "data": {
      "application/vnd.jupyter.widget-view+json": {
       "model_id": "d2c3c5bab3334700ba3fe2f117283aa4",
       "version_major": 2,
       "version_minor": 0
      },
      "text/plain": [
       "HBox(children=(HTML(value='Train '), FloatProgress(value=0.0, max=471.0), HTML(value='')))"
      ]
     },
     "metadata": {},
     "output_type": "display_data"
    },
    {
     "data": {
      "application/vnd.jupyter.widget-view+json": {
       "model_id": "699ff26854a24ea9bd9be3928b7a0091",
       "version_major": 2,
       "version_minor": 0
      },
      "text/plain": [
       "HBox(children=(HTML(value='Valid '), FloatProgress(value=0.0, max=64.0), HTML(value='')))"
      ]
     },
     "metadata": {},
     "output_type": "display_data"
    },
    {
     "data": {
      "application/vnd.jupyter.widget-view+json": {
       "model_id": "1536deca8c434fdb91ef6297087b9c8c",
       "version_major": 2,
       "version_minor": 0
      },
      "text/plain": [
       "HBox(children=(HTML(value='Valid '), FloatProgress(value=0.0, max=64.0), HTML(value='')))"
      ]
     },
     "metadata": {},
     "output_type": "display_data"
    },
    {
     "data": {
      "application/vnd.jupyter.widget-view+json": {
       "model_id": "364822b0c6b447639efcfca58b23cfb1",
       "version_major": 2,
       "version_minor": 0
      },
      "text/plain": [
       "HBox(children=(HTML(value='Train '), FloatProgress(value=0.0, max=471.0), HTML(value='')))"
      ]
     },
     "metadata": {},
     "output_type": "display_data"
    },
    {
     "data": {
      "application/vnd.jupyter.widget-view+json": {
       "model_id": "84b02db74b504428bcb463a84a950fa3",
       "version_major": 2,
       "version_minor": 0
      },
      "text/plain": [
       "HBox(children=(HTML(value='Valid '), FloatProgress(value=0.0, max=64.0), HTML(value='')))"
      ]
     },
     "metadata": {},
     "output_type": "display_data"
    },
    {
     "data": {
      "application/vnd.jupyter.widget-view+json": {
       "model_id": "5591048c233b45b0823bcd5ec01c83d4",
       "version_major": 2,
       "version_minor": 0
      },
      "text/plain": [
       "HBox(children=(HTML(value='Valid '), FloatProgress(value=0.0, max=64.0), HTML(value='')))"
      ]
     },
     "metadata": {},
     "output_type": "display_data"
    },
    {
     "data": {
      "application/vnd.jupyter.widget-view+json": {
       "model_id": "5ac7ea0f89354a9c8d17fba3ef636322",
       "version_major": 2,
       "version_minor": 0
      },
      "text/plain": [
       "HBox(children=(HTML(value='Train '), FloatProgress(value=0.0, max=471.0), HTML(value='')))"
      ]
     },
     "metadata": {},
     "output_type": "display_data"
    },
    {
     "data": {
      "application/vnd.jupyter.widget-view+json": {
       "model_id": "6d50552b8fdc461e94dffc3c887c6609",
       "version_major": 2,
       "version_minor": 0
      },
      "text/plain": [
       "HBox(children=(HTML(value='Valid '), FloatProgress(value=0.0, max=64.0), HTML(value='')))"
      ]
     },
     "metadata": {},
     "output_type": "display_data"
    },
    {
     "data": {
      "application/vnd.jupyter.widget-view+json": {
       "model_id": "81b5f92e8cd743a89b2af17330df9860",
       "version_major": 2,
       "version_minor": 0
      },
      "text/plain": [
       "HBox(children=(HTML(value='Valid '), FloatProgress(value=0.0, max=64.0), HTML(value='')))"
      ]
     },
     "metadata": {},
     "output_type": "display_data"
    },
    {
     "data": {
      "application/vnd.jupyter.widget-view+json": {
       "model_id": "133241b0630544afb047fc7899b50bb2",
       "version_major": 2,
       "version_minor": 0
      },
      "text/plain": [
       "HBox(children=(HTML(value='Train '), FloatProgress(value=0.0, max=471.0), HTML(value='')))"
      ]
     },
     "metadata": {},
     "output_type": "display_data"
    },
    {
     "data": {
      "application/vnd.jupyter.widget-view+json": {
       "model_id": "aa2a4bf6cb13457aa0141809318468ee",
       "version_major": 2,
       "version_minor": 0
      },
      "text/plain": [
       "HBox(children=(HTML(value='Valid '), FloatProgress(value=0.0, max=64.0), HTML(value='')))"
      ]
     },
     "metadata": {},
     "output_type": "display_data"
    },
    {
     "data": {
      "application/vnd.jupyter.widget-view+json": {
       "model_id": "06a2e4b2c2354be7bec05f99d25bf012",
       "version_major": 2,
       "version_minor": 0
      },
      "text/plain": [
       "HBox(children=(HTML(value='Valid '), FloatProgress(value=0.0, max=64.0), HTML(value='')))"
      ]
     },
     "metadata": {},
     "output_type": "display_data"
    },
    {
     "data": {
      "application/vnd.jupyter.widget-view+json": {
       "model_id": "bcdcd31920574725aa39aa27a1e3d2b7",
       "version_major": 2,
       "version_minor": 0
      },
      "text/plain": [
       "HBox(children=(HTML(value='Train '), FloatProgress(value=0.0, max=471.0), HTML(value='')))"
      ]
     },
     "metadata": {},
     "output_type": "display_data"
    },
    {
     "data": {
      "application/vnd.jupyter.widget-view+json": {
       "model_id": "974f5917e6aa457e88e71c76d498f5d6",
       "version_major": 2,
       "version_minor": 0
      },
      "text/plain": [
       "HBox(children=(HTML(value='Valid '), FloatProgress(value=0.0, max=64.0), HTML(value='')))"
      ]
     },
     "metadata": {},
     "output_type": "display_data"
    },
    {
     "data": {
      "application/vnd.jupyter.widget-view+json": {
       "model_id": "8f6653fbbc0745d6b0ccefcf8464dec0",
       "version_major": 2,
       "version_minor": 0
      },
      "text/plain": [
       "HBox(children=(HTML(value='Valid '), FloatProgress(value=0.0, max=64.0), HTML(value='')))"
      ]
     },
     "metadata": {},
     "output_type": "display_data"
    },
    {
     "data": {
      "application/vnd.jupyter.widget-view+json": {
       "model_id": "4d23e2ab2a2b406eb1cc83a3c4d08aa3",
       "version_major": 2,
       "version_minor": 0
      },
      "text/plain": [
       "HBox(children=(HTML(value='Train '), FloatProgress(value=0.0, max=471.0), HTML(value='')))"
      ]
     },
     "metadata": {},
     "output_type": "display_data"
    },
    {
     "data": {
      "application/vnd.jupyter.widget-view+json": {
       "model_id": "f2ea5aa057cd4e72b23d84b015606878",
       "version_major": 2,
       "version_minor": 0
      },
      "text/plain": [
       "HBox(children=(HTML(value='Valid '), FloatProgress(value=0.0, max=64.0), HTML(value='')))"
      ]
     },
     "metadata": {},
     "output_type": "display_data"
    },
    {
     "data": {
      "application/vnd.jupyter.widget-view+json": {
       "model_id": "4c704f79ca0a4907a3e9414235af43c1",
       "version_major": 2,
       "version_minor": 0
      },
      "text/plain": [
       "HBox(children=(HTML(value='Valid '), FloatProgress(value=0.0, max=64.0), HTML(value='')))"
      ]
     },
     "metadata": {},
     "output_type": "display_data"
    },
    {
     "data": {
      "application/vnd.jupyter.widget-view+json": {
       "model_id": "ef6facf6ab664be2818e5326665f3f34",
       "version_major": 2,
       "version_minor": 0
      },
      "text/plain": [
       "HBox(children=(HTML(value='Train '), FloatProgress(value=0.0, max=471.0), HTML(value='')))"
      ]
     },
     "metadata": {},
     "output_type": "display_data"
    },
    {
     "data": {
      "application/vnd.jupyter.widget-view+json": {
       "model_id": "ad7a8fa2d17841088a1faa7c9d2eb4e9",
       "version_major": 2,
       "version_minor": 0
      },
      "text/plain": [
       "HBox(children=(HTML(value='Valid '), FloatProgress(value=0.0, max=64.0), HTML(value='')))"
      ]
     },
     "metadata": {},
     "output_type": "display_data"
    },
    {
     "data": {
      "application/vnd.jupyter.widget-view+json": {
       "model_id": "906f7df02e624d18baa21e1d00a830f9",
       "version_major": 2,
       "version_minor": 0
      },
      "text/plain": [
       "HBox(children=(HTML(value='Valid '), FloatProgress(value=0.0, max=64.0), HTML(value='')))"
      ]
     },
     "metadata": {},
     "output_type": "display_data"
    },
    {
     "data": {
      "application/vnd.jupyter.widget-view+json": {
       "model_id": "addd745b3ed64ddab42c838494eb661c",
       "version_major": 2,
       "version_minor": 0
      },
      "text/plain": [
       "HBox(children=(HTML(value='Train '), FloatProgress(value=0.0, max=471.0), HTML(value='')))"
      ]
     },
     "metadata": {},
     "output_type": "display_data"
    },
    {
     "data": {
      "application/vnd.jupyter.widget-view+json": {
       "model_id": "8ffe70c2c62d4bad9f39d3fecf4ac19f",
       "version_major": 2,
       "version_minor": 0
      },
      "text/plain": [
       "HBox(children=(HTML(value='Valid '), FloatProgress(value=0.0, max=64.0), HTML(value='')))"
      ]
     },
     "metadata": {},
     "output_type": "display_data"
    },
    {
     "data": {
      "application/vnd.jupyter.widget-view+json": {
       "model_id": "f8458be9eff9476e84feb607d02d676c",
       "version_major": 2,
       "version_minor": 0
      },
      "text/plain": [
       "HBox(children=(HTML(value='Valid '), FloatProgress(value=0.0, max=64.0), HTML(value='')))"
      ]
     },
     "metadata": {},
     "output_type": "display_data"
    },
    {
     "data": {
      "application/vnd.jupyter.widget-view+json": {
       "model_id": "61d863621ae54a2894703e8a91d2b520",
       "version_major": 2,
       "version_minor": 0
      },
      "text/plain": [
       "HBox(children=(HTML(value='Train '), FloatProgress(value=0.0, max=471.0), HTML(value='')))"
      ]
     },
     "metadata": {},
     "output_type": "display_data"
    },
    {
     "data": {
      "application/vnd.jupyter.widget-view+json": {
       "model_id": "aa806e50a70142138657f9854edde787",
       "version_major": 2,
       "version_minor": 0
      },
      "text/plain": [
       "HBox(children=(HTML(value='Valid '), FloatProgress(value=0.0, max=64.0), HTML(value='')))"
      ]
     },
     "metadata": {},
     "output_type": "display_data"
    },
    {
     "data": {
      "application/vnd.jupyter.widget-view+json": {
       "model_id": "5fdb72714c9a41449f0a1750c108e776",
       "version_major": 2,
       "version_minor": 0
      },
      "text/plain": [
       "HBox(children=(HTML(value='Valid '), FloatProgress(value=0.0, max=64.0), HTML(value='')))"
      ]
     },
     "metadata": {},
     "output_type": "display_data"
    },
    {
     "data": {
      "application/vnd.jupyter.widget-view+json": {
       "model_id": "1c8e44dbda524883a75bcf27209d0e7f",
       "version_major": 2,
       "version_minor": 0
      },
      "text/plain": [
       "HBox(children=(HTML(value='Train '), FloatProgress(value=0.0, max=471.0), HTML(value='')))"
      ]
     },
     "metadata": {},
     "output_type": "display_data"
    },
    {
     "data": {
      "application/vnd.jupyter.widget-view+json": {
       "model_id": "51afbff362414ff1ad0b17ee2c296a60",
       "version_major": 2,
       "version_minor": 0
      },
      "text/plain": [
       "HBox(children=(HTML(value='Valid '), FloatProgress(value=0.0, max=64.0), HTML(value='')))"
      ]
     },
     "metadata": {},
     "output_type": "display_data"
    },
    {
     "data": {
      "application/vnd.jupyter.widget-view+json": {
       "model_id": "ed13220144e54d77b970d4c3bad160d0",
       "version_major": 2,
       "version_minor": 0
      },
      "text/plain": [
       "HBox(children=(HTML(value='Valid '), FloatProgress(value=0.0, max=64.0), HTML(value='')))"
      ]
     },
     "metadata": {},
     "output_type": "display_data"
    },
    {
     "data": {
      "application/vnd.jupyter.widget-view+json": {
       "model_id": "71076c465e2949f4b82b0ed4d812f822",
       "version_major": 2,
       "version_minor": 0
      },
      "text/plain": [
       "HBox(children=(HTML(value='Train '), FloatProgress(value=0.0, max=471.0), HTML(value='')))"
      ]
     },
     "metadata": {},
     "output_type": "display_data"
    },
    {
     "data": {
      "application/vnd.jupyter.widget-view+json": {
       "model_id": "62a60362d3774b9f837b6efbedeef0e0",
       "version_major": 2,
       "version_minor": 0
      },
      "text/plain": [
       "HBox(children=(HTML(value='Valid '), FloatProgress(value=0.0, max=64.0), HTML(value='')))"
      ]
     },
     "metadata": {},
     "output_type": "display_data"
    },
    {
     "data": {
      "application/vnd.jupyter.widget-view+json": {
       "model_id": "2e5522e907d5443193517eb3bb2e95c3",
       "version_major": 2,
       "version_minor": 0
      },
      "text/plain": [
       "HBox(children=(HTML(value='Valid '), FloatProgress(value=0.0, max=64.0), HTML(value='')))"
      ]
     },
     "metadata": {},
     "output_type": "display_data"
    },
    {
     "data": {
      "application/vnd.jupyter.widget-view+json": {
       "model_id": "4988170fe48d489289d37543f8f497fd",
       "version_major": 2,
       "version_minor": 0
      },
      "text/plain": [
       "HBox(children=(HTML(value='Train '), FloatProgress(value=0.0, max=471.0), HTML(value='')))"
      ]
     },
     "metadata": {},
     "output_type": "display_data"
    },
    {
     "data": {
      "application/vnd.jupyter.widget-view+json": {
       "model_id": "9b1951b2b9b7488a86580632cb4e1640",
       "version_major": 2,
       "version_minor": 0
      },
      "text/plain": [
       "HBox(children=(HTML(value='Valid '), FloatProgress(value=0.0, max=64.0), HTML(value='')))"
      ]
     },
     "metadata": {},
     "output_type": "display_data"
    },
    {
     "data": {
      "application/vnd.jupyter.widget-view+json": {
       "model_id": "dc25850602494537b0cb412b5bcc4b64",
       "version_major": 2,
       "version_minor": 0
      },
      "text/plain": [
       "HBox(children=(HTML(value='Valid '), FloatProgress(value=0.0, max=64.0), HTML(value='')))"
      ]
     },
     "metadata": {},
     "output_type": "display_data"
    },
    {
     "data": {
      "application/vnd.jupyter.widget-view+json": {
       "model_id": "ef43346399cd426fb8fab16142bc21d8",
       "version_major": 2,
       "version_minor": 0
      },
      "text/plain": [
       "HBox(children=(HTML(value='Train '), FloatProgress(value=0.0, max=471.0), HTML(value='')))"
      ]
     },
     "metadata": {},
     "output_type": "display_data"
    },
    {
     "data": {
      "application/vnd.jupyter.widget-view+json": {
       "model_id": "df39f9bb12c64ddb9969aa9bad7e8ebf",
       "version_major": 2,
       "version_minor": 0
      },
      "text/plain": [
       "HBox(children=(HTML(value='Valid '), FloatProgress(value=0.0, max=64.0), HTML(value='')))"
      ]
     },
     "metadata": {},
     "output_type": "display_data"
    },
    {
     "data": {
      "application/vnd.jupyter.widget-view+json": {
       "model_id": "3ec265c679ff45e7b4affc69c16aa0cc",
       "version_major": 2,
       "version_minor": 0
      },
      "text/plain": [
       "HBox(children=(HTML(value='Valid '), FloatProgress(value=0.0, max=64.0), HTML(value='')))"
      ]
     },
     "metadata": {},
     "output_type": "display_data"
    },
    {
     "data": {
      "application/vnd.jupyter.widget-view+json": {
       "model_id": "bf43325f65f446ef84eef3208b9f6f83",
       "version_major": 2,
       "version_minor": 0
      },
      "text/plain": [
       "HBox(children=(HTML(value='Train '), FloatProgress(value=0.0, max=471.0), HTML(value='')))"
      ]
     },
     "metadata": {},
     "output_type": "display_data"
    },
    {
     "data": {
      "application/vnd.jupyter.widget-view+json": {
       "model_id": "ee609f145de74a1ea580a4bfda042249",
       "version_major": 2,
       "version_minor": 0
      },
      "text/plain": [
       "HBox(children=(HTML(value='Valid '), FloatProgress(value=0.0, max=64.0), HTML(value='')))"
      ]
     },
     "metadata": {},
     "output_type": "display_data"
    },
    {
     "name": "stderr",
     "output_type": "stream",
     "text": [
      "Downloading: \"https://github.com/lukemelas/EfficientNet-PyTorch/releases/download/1.0/efficientnet-b2-8bb594d6.pth\" to /tmp/xdg_cache/torch/hub/checkpoints/efficientnet-b2-8bb594d6.pth\n",
      "\u001b[34m\u001b[1mwandb\u001b[0m: \u001b[33mWARNING\u001b[0m Saving files without folders. If you want to preserve sub directories pass base_path to wandb.save, i.e. wandb.save(\"/mnt/folder/file.h5\", base_path=\"/mnt\")\n",
      "\u001b[34m\u001b[1mwandb\u001b[0m: \u001b[33mWARNING\u001b[0m Saving files without folders. If you want to preserve sub directories pass base_path to wandb.save, i.e. wandb.save(\"/mnt/folder/file.h5\", base_path=\"/mnt\")\n",
      "\u001b[34m\u001b[1mwandb\u001b[0m: \u001b[33mWARNING\u001b[0m Saving files without folders. If you want to preserve sub directories pass base_path to wandb.save, i.e. wandb.save(\"/mnt/folder/file.h5\", base_path=\"/mnt\")\n",
      "\u001b[34m\u001b[1mwandb\u001b[0m: \u001b[33mWARNING\u001b[0m Saving files without folders. If you want to preserve sub directories pass base_path to wandb.save, i.e. wandb.save(\"/mnt/folder/file.h5\", base_path=\"/mnt\")\n",
      "\u001b[34m\u001b[1mwandb\u001b[0m: \u001b[33mWARNING\u001b[0m Saving files without folders. If you want to preserve sub directories pass base_path to wandb.save, i.e. wandb.save(\"/mnt/folder/file.h5\", base_path=\"/mnt\")\n",
      "\u001b[34m\u001b[1mwandb\u001b[0m: \u001b[33mWARNING\u001b[0m Saving files without folders. If you want to preserve sub directories pass base_path to wandb.save, i.e. wandb.save(\"/mnt/folder/file.h5\", base_path=\"/mnt\")\n",
      "\u001b[34m\u001b[1mwandb\u001b[0m: \u001b[33mWARNING\u001b[0m Saving files without folders. If you want to preserve sub directories pass base_path to wandb.save, i.e. wandb.save(\"/mnt/folder/file.h5\", base_path=\"/mnt\")\n",
      "\u001b[34m\u001b[1mwandb\u001b[0m: \u001b[33mWARNING\u001b[0m Saving files without folders. If you want to preserve sub directories pass base_path to wandb.save, i.e. wandb.save(\"/mnt/folder/file.h5\", base_path=\"/mnt\")\n",
      "\u001b[34m\u001b[1mwandb\u001b[0m: \u001b[33mWARNING\u001b[0m Saving files without folders. If you want to preserve sub directories pass base_path to wandb.save, i.e. wandb.save(\"/mnt/folder/file.h5\", base_path=\"/mnt\")\n",
      "\u001b[34m\u001b[1mwandb\u001b[0m: \u001b[33mWARNING\u001b[0m Saving files without folders. If you want to preserve sub directories pass base_path to wandb.save, i.e. wandb.save(\"/mnt/folder/file.h5\", base_path=\"/mnt\")\n",
      "\u001b[34m\u001b[1mwandb\u001b[0m: \u001b[33mWARNING\u001b[0m Saving files without folders. If you want to preserve sub directories pass base_path to wandb.save, i.e. wandb.save(\"/mnt/folder/file.h5\", base_path=\"/mnt\")\n",
      "\u001b[34m\u001b[1mwandb\u001b[0m: \u001b[33mWARNING\u001b[0m Saving files without folders. If you want to preserve sub directories pass base_path to wandb.save, i.e. wandb.save(\"/mnt/folder/file.h5\", base_path=\"/mnt\")\n",
      "\u001b[34m\u001b[1mwandb\u001b[0m: \u001b[33mWARNING\u001b[0m Saving files without folders. If you want to preserve sub directories pass base_path to wandb.save, i.e. wandb.save(\"/mnt/folder/file.h5\", base_path=\"/mnt\")\n",
      "\u001b[34m\u001b[1mwandb\u001b[0m: \u001b[33mWARNING\u001b[0m Saving files without folders. If you want to preserve sub directories pass base_path to wandb.save, i.e. wandb.save(\"/mnt/folder/file.h5\", base_path=\"/mnt\")\n",
      "\u001b[34m\u001b[1mwandb\u001b[0m: \u001b[33mWARNING\u001b[0m Saving files without folders. If you want to preserve sub directories pass base_path to wandb.save, i.e. wandb.save(\"/mnt/folder/file.h5\", base_path=\"/mnt\")\n",
      "\u001b[34m\u001b[1mwandb\u001b[0m: \u001b[33mWARNING\u001b[0m Saving files without folders. If you want to preserve sub directories pass base_path to wandb.save, i.e. wandb.save(\"/mnt/folder/file.h5\", base_path=\"/mnt\")\n"
     ]
    },
    {
     "data": {
      "application/vnd.jupyter.widget-view+json": {
       "model_id": "9b556c40590a4f5ba1af5646d203c10c",
       "version_major": 2,
       "version_minor": 0
      },
      "text/plain": [
       "HBox(children=(HTML(value='Valid '), FloatProgress(value=0.0, max=64.0), HTML(value='')))"
      ]
     },
     "metadata": {},
     "output_type": "display_data"
    },
    {
     "data": {
      "application/vnd.jupyter.widget-view+json": {
       "model_id": "0c1e3efe6af447489b55f96f5e74012f",
       "version_major": 2,
       "version_minor": 0
      },
      "text/plain": [
       "HBox(children=(HTML(value='Train '), FloatProgress(value=0.0, max=471.0), HTML(value='')))"
      ]
     },
     "metadata": {},
     "output_type": "display_data"
    },
    {
     "data": {
      "application/vnd.jupyter.widget-view+json": {
       "model_id": "fa62a5169b8e43bcb8304c63b8c7a903",
       "version_major": 2,
       "version_minor": 0
      },
      "text/plain": [
       "HBox(children=(HTML(value='Valid '), FloatProgress(value=0.0, max=64.0), HTML(value='')))"
      ]
     },
     "metadata": {},
     "output_type": "display_data"
    },
    {
     "data": {
      "application/vnd.jupyter.widget-view+json": {
       "model_id": "cf6ba7d30cc44ac78c4bd19e9b7580b5",
       "version_major": 2,
       "version_minor": 0
      },
      "text/plain": [
       "HBox(children=(HTML(value='Valid '), FloatProgress(value=0.0, max=64.0), HTML(value='')))"
      ]
     },
     "metadata": {},
     "output_type": "display_data"
    },
    {
     "data": {
      "application/vnd.jupyter.widget-view+json": {
       "model_id": "8d85bb80c30847d7b13ebf8485c47225",
       "version_major": 2,
       "version_minor": 0
      },
      "text/plain": [
       "HBox(children=(HTML(value='Train '), FloatProgress(value=0.0, max=471.0), HTML(value='')))"
      ]
     },
     "metadata": {},
     "output_type": "display_data"
    },
    {
     "data": {
      "application/vnd.jupyter.widget-view+json": {
       "model_id": "6428147154ec4fe099f39bec716967d7",
       "version_major": 2,
       "version_minor": 0
      },
      "text/plain": [
       "HBox(children=(HTML(value='Valid '), FloatProgress(value=0.0, max=64.0), HTML(value='')))"
      ]
     },
     "metadata": {},
     "output_type": "display_data"
    },
    {
     "data": {
      "application/vnd.jupyter.widget-view+json": {
       "model_id": "df822b7fd71541299da30f1fc9a1dab8",
       "version_major": 2,
       "version_minor": 0
      },
      "text/plain": [
       "HBox(children=(HTML(value='Valid '), FloatProgress(value=0.0, max=64.0), HTML(value='')))"
      ]
     },
     "metadata": {},
     "output_type": "display_data"
    },
    {
     "name": "stdout",
     "output_type": "stream",
     "text": [
      "###############\n",
      "### Fold: 0\n",
      "###############\n",
      "\n",
      "cuda: Tesla V100-SXM2-32GB\n",
      "\n",
      "Epoch 1/18\n",
      "Valid Dice: 0.5235 | Valid Jaccard: 0.4927 | 1 - Valid HD monai: 1.0000 | Valid kaggle metric:  0.8094\n",
      "\u001b[32mValid Score Improved (-inf ---> 0.5235)\n",
      "Model Saved\u001b[0m\n",
      "\n",
      "Valid Dice: 0.4719 | Valid Jaccard: 0.4415 | 1 - Valid HD monai: 1.0000 | Valid kaggle metric:  0.7888\n",
      "\n",
      "\n",
      "\n",
      "Epoch 2/18\n",
      "Valid Dice: 0.8405 | Valid Jaccard: 0.8091 | 1 - Valid HD monai: 1.0000 | Valid kaggle metric:  0.9362\n",
      "\u001b[32mValid Score Improved (0.5235 ---> 0.8405)\n",
      "Model Saved\u001b[0m\n",
      "\n",
      "Valid Dice: 0.8734 | Valid Jaccard: 0.8418 | 1 - Valid HD monai: 1.0000 | Valid kaggle metric:  0.9494\n",
      "\u001b[32mValid Score Improved (0.8405 ---> 0.8734)\n",
      "Model Saved\u001b[0m\n",
      "\n",
      "\n",
      "\n",
      "Epoch 3/18\n",
      "Valid Dice: 0.8637 | Valid Jaccard: 0.8319 | 1 - Valid HD monai: 1.0000 | Valid kaggle metric:  0.9455\n",
      "\n",
      "Valid Dice: 0.8807 | Valid Jaccard: 0.8498 | 1 - Valid HD monai: 1.0000 | Valid kaggle metric:  0.9523\n",
      "\u001b[32mValid Score Improved (0.8734 ---> 0.8807)\n",
      "Model Saved\u001b[0m\n",
      "\n",
      "\n",
      "\n",
      "Epoch 4/18\n",
      "Valid Dice: 0.8948 | Valid Jaccard: 0.8642 | 1 - Valid HD monai: 1.0000 | Valid kaggle metric:  0.9579\n",
      "\u001b[32mValid Score Improved (0.8807 ---> 0.8948)\n",
      "Model Saved\u001b[0m\n",
      "\n",
      "Valid Dice: 0.8802 | Valid Jaccard: 0.8511 | 1 - Valid HD monai: 1.0000 | Valid kaggle metric:  0.9521\n",
      "\n",
      "\n",
      "\n",
      "Epoch 5/18\n",
      "Valid Dice: 0.8436 | Valid Jaccard: 0.8129 | 1 - Valid HD monai: 1.0000 | Valid kaggle metric:  0.9374\n",
      "\n",
      "Valid Dice: 0.8893 | Valid Jaccard: 0.8600 | 1 - Valid HD monai: 1.0000 | Valid kaggle metric:  0.9557\n",
      "\n",
      "\n",
      "\n",
      "Epoch 6/18\n",
      "Valid Dice: 0.8962 | Valid Jaccard: 0.8668 | 1 - Valid HD monai: 1.0000 | Valid kaggle metric:  0.9585\n",
      "\u001b[32mValid Score Improved (0.8948 ---> 0.8962)\n",
      "Model Saved\u001b[0m\n",
      "\n",
      "Valid Dice: 0.8964 | Valid Jaccard: 0.8676 | 1 - Valid HD monai: 1.0000 | Valid kaggle metric:  0.9586\n",
      "\u001b[32mValid Score Improved (0.8962 ---> 0.8964)\n",
      "Model Saved\u001b[0m\n",
      "\n",
      "\n",
      "\n",
      "Epoch 7/18\n",
      "Valid Dice: 0.8938 | Valid Jaccard: 0.8641 | 1 - Valid HD monai: 1.0000 | Valid kaggle metric:  0.9575\n",
      "\n",
      "Valid Dice: 0.8935 | Valid Jaccard: 0.8640 | 1 - Valid HD monai: 1.0000 | Valid kaggle metric:  0.9574\n",
      "\n",
      "\n",
      "\n",
      "Epoch 8/18\n",
      "Valid Dice: 0.8923 | Valid Jaccard: 0.8640 | 1 - Valid HD monai: 1.0000 | Valid kaggle metric:  0.9569\n",
      "\n",
      "Valid Dice: 0.8820 | Valid Jaccard: 0.8563 | 1 - Valid HD monai: 1.0000 | Valid kaggle metric:  0.9528\n",
      "\n",
      "\n",
      "\n",
      "Epoch 9/18\n",
      "Valid Dice: 0.9005 | Valid Jaccard: 0.8722 | 1 - Valid HD monai: 1.0000 | Valid kaggle metric:  0.9602\n",
      "\u001b[32mValid Score Improved (0.8964 ---> 0.9005)\n",
      "Model Saved\u001b[0m\n",
      "\n",
      "Valid Dice: 0.8999 | Valid Jaccard: 0.8709 | 1 - Valid HD monai: 1.0000 | Valid kaggle metric:  0.9600\n",
      "\n",
      "\n",
      "\n",
      "Epoch 10/18\n",
      "Valid Dice: 0.9012 | Valid Jaccard: 0.8730 | 1 - Valid HD monai: 1.0000 | Valid kaggle metric:  0.9605\n",
      "\u001b[32mValid Score Improved (0.9005 ---> 0.9012)\n",
      "Model Saved\u001b[0m\n",
      "\n",
      "Valid Dice: 0.8911 | Valid Jaccard: 0.8621 | 1 - Valid HD monai: 1.0000 | Valid kaggle metric:  0.9565\n",
      "\n",
      "\n",
      "\n",
      "Epoch 11/18\n",
      "Valid Dice: 0.9008 | Valid Jaccard: 0.8729 | 1 - Valid HD monai: 1.0000 | Valid kaggle metric:  0.9603\n",
      "\n",
      "Valid Dice: 0.9047 | Valid Jaccard: 0.8767 | 1 - Valid HD monai: 1.0000 | Valid kaggle metric:  0.9619\n",
      "\u001b[32mValid Score Improved (0.9012 ---> 0.9047)\n",
      "Model Saved\u001b[0m\n",
      "\n",
      "\n",
      "\n",
      "Epoch 12/18\n",
      "Valid Dice: 0.9024 | Valid Jaccard: 0.8738 | 1 - Valid HD monai: 1.0000 | Valid kaggle metric:  0.9609\n",
      "\n",
      "Valid Dice: 0.9042 | Valid Jaccard: 0.8756 | 1 - Valid HD monai: 1.0000 | Valid kaggle metric:  0.9617\n",
      "\n",
      "\n",
      "\n",
      "Epoch 13/18\n",
      "Valid Dice: 0.9046 | Valid Jaccard: 0.8769 | 1 - Valid HD monai: 1.0000 | Valid kaggle metric:  0.9618\n",
      "\n",
      "Valid Dice: 0.9066 | Valid Jaccard: 0.8791 | 1 - Valid HD monai: 1.0000 | Valid kaggle metric:  0.9626\n",
      "\u001b[32mValid Score Improved (0.9047 ---> 0.9066)\n",
      "Model Saved\u001b[0m\n",
      "\n",
      "\n",
      "\n",
      "Epoch 14/18\n",
      "Valid Dice: 0.9082 | Valid Jaccard: 0.8801 | 1 - Valid HD monai: 1.0000 | Valid kaggle metric:  0.9633\n",
      "\u001b[32mValid Score Improved (0.9066 ---> 0.9082)\n",
      "Model Saved\u001b[0m\n",
      "\n",
      "Valid Dice: 0.9086 | Valid Jaccard: 0.8806 | 1 - Valid HD monai: 1.0000 | Valid kaggle metric:  0.9635\n",
      "\u001b[32mValid Score Improved (0.9082 ---> 0.9086)\n",
      "Model Saved\u001b[0m\n",
      "\n",
      "\n",
      "\n",
      "Epoch 15/18\n",
      "Valid Dice: 0.9087 | Valid Jaccard: 0.8812 | 1 - Valid HD monai: 1.0000 | Valid kaggle metric:  0.9635\n",
      "\u001b[32mValid Score Improved (0.9086 ---> 0.9087)\n",
      "Model Saved\u001b[0m\n",
      "\n",
      "Valid Dice: 0.9102 | Valid Jaccard: 0.8825 | 1 - Valid HD monai: 1.0000 | Valid kaggle metric:  0.9641\n",
      "\u001b[32mValid Score Improved (0.9087 ---> 0.9102)\n",
      "Model Saved\u001b[0m\n",
      "\n",
      "\n",
      "\n",
      "Epoch 16/18\n",
      "Valid Dice: 0.9110 | Valid Jaccard: 0.8836 | 1 - Valid HD monai: 1.0000 | Valid kaggle metric:  0.9644\n",
      "\u001b[32mValid Score Improved (0.9102 ---> 0.9110)\n",
      "Model Saved\u001b[0m\n",
      "\n",
      "Valid Dice: 0.9097 | Valid Jaccard: 0.8823 | 1 - Valid HD monai: 1.0000 | Valid kaggle metric:  0.9639\n",
      "\n",
      "\n",
      "\n",
      "Epoch 17/18\n",
      "Valid Dice: 0.9103 | Valid Jaccard: 0.8829 | 1 - Valid HD monai: 1.0000 | Valid kaggle metric:  0.9641\n",
      "\n",
      "Valid Dice: 0.9104 | Valid Jaccard: 0.8830 | 1 - Valid HD monai: 1.0000 | Valid kaggle metric:  0.9642\n",
      "\n",
      "\n",
      "\n",
      "Epoch 18/18\n",
      "Valid Dice: 0.9104 | Valid Jaccard: 0.8830 | 1 - Valid HD monai: 1.0000 | Valid kaggle metric:  0.9642\n",
      "\n",
      "Valid Dice: 0.9107 | Valid Jaccard: 0.8832 | 1 - Valid HD monai: 1.0000 | Valid kaggle metric:  0.9643\n",
      "\n",
      "\n",
      "\n",
      "Training complete in 15h 40m 13s\n",
      "Best Dice Score: 0.9110\n"
     ]
    },
    {
     "data": {
      "text/html": [
       "Waiting for W&B process to finish... <strong style=\"color:green\">(success).</strong>"
      ],
      "text/plain": [
       "<IPython.core.display.HTML object>"
      ]
     },
     "metadata": {},
     "output_type": "display_data"
    },
    {
     "data": {
      "application/vnd.jupyter.widget-view+json": {
       "model_id": "2cfc2f229278491fa22394f7790a24d3",
       "version_major": 2,
       "version_minor": 0
      },
      "text/plain": [
       "VBox(children=(Label(value='620.550 MB of 620.550 MB uploaded (0.000 MB deduped)\\r'), FloatProgress(value=1.0,…"
      ]
     },
     "metadata": {},
     "output_type": "display_data"
    },
    {
     "data": {
      "text/html": [
       "<style>\n",
       "    table.wandb td:nth-child(1) { padding: 0 10px; text-align: left ; width: auto;} td:nth-child(2) {text-align: left ; width: 100%}\n",
       "    .wandb-row { display: flex; flex-direction: row; flex-wrap: wrap; justify-content: flex-start; width: 100% }\n",
       "    .wandb-col { display: flex; flex-direction: column; flex-basis: 100%; flex: 1; padding: 10px; }\n",
       "    </style>\n",
       "<div class=\"wandb-row\"><div class=\"wandb-col\"><h3>Run history:</h3><br/><table class=\"wandb\"><tr><td>LR</td><td>██████▇▇▇▇▇▆▆▆▅▅▅▅▄▄▄▃▃▃▃▂▂▂▂▁▁▁▁▁▁▁</td></tr><tr><td>Train Loss</td><td>█▇▃▂▂▂▂▂▂▂▂▂▂▂▁▁▁▁▁▁▁▁▁▁▁▁▁▁▁▁▁▁▁▁▁▁</td></tr><tr><td>Valid Dice</td><td>▂▁▇▇▇███▇███████████████████████████</td></tr><tr><td>Valid HD</td><td>▁▁▁▁▁▁▁▁▁▁▁▁▁▁▁▁▁▁▁▁▁▁▁▁▁▁▁▁▁▁▁▁▁▁▁▁</td></tr><tr><td>Valid Jaccard</td><td>▂▁▇▇▇▇█▇▇███████████████████████████</td></tr><tr><td>Valid Kaggle Metric</td><td>▂▁▇▇▇███▇███████████████████████████</td></tr><tr><td>Valid Loss</td><td>██▄▂▂▂▂▂▂▂▂▁▂▁▁▂▁▁▁▁▁▁▁▁▁▁▁▁▁▁▁▁▁▁▁▁</td></tr></table><br/></div><div class=\"wandb-col\"><h3>Run summary:</h3><br/><table class=\"wandb\"><tr><td>Best Dice</td><td>0.911</td></tr><tr><td>Best Epoch</td><td>16</td></tr><tr><td>Best Jaccard</td><td>0.88359</td></tr><tr><td>LR</td><td>0.0</td></tr><tr><td>Train Loss</td><td>0.06251</td></tr><tr><td>Valid Dice</td><td>0.91068</td></tr><tr><td>Valid HD</td><td>0.0</td></tr><tr><td>Valid Jaccard</td><td>0.88325</td></tr><tr><td>Valid Kaggle Metric</td><td>0.96427</td></tr><tr><td>Valid Loss</td><td>0.13479</td></tr></table><br/></div></div>"
      ],
      "text/plain": [
       "<IPython.core.display.HTML object>"
      ]
     },
     "metadata": {},
     "output_type": "display_data"
    },
    {
     "data": {
      "text/html": [
       "Synced <strong style=\"color:#cdcd00\">fold-0|dim-512x512|model-Unet</strong>: <a href=\"https://wandb.ai/diwert/uw-maddison-gi-tract/runs/3blq9j1r\" target=\"_blank\">https://wandb.ai/diwert/uw-maddison-gi-tract/runs/3blq9j1r</a><br/>Synced 5 W&B file(s), 0 media file(s), 0 artifact file(s) and 16 other file(s)"
      ],
      "text/plain": [
       "<IPython.core.display.HTML object>"
      ]
     },
     "metadata": {},
     "output_type": "display_data"
    },
    {
     "data": {
      "text/html": [
       "Find logs at: <code>./wandb/run-20220527_172930-3blq9j1r/logs</code>"
      ],
      "text/plain": [
       "<IPython.core.display.HTML object>"
      ]
     },
     "metadata": {},
     "output_type": "display_data"
    },
    {
     "data": {
      "text/html": [
       "\n",
       "        <iframe\n",
       "            width=\"1000\"\n",
       "            height=\"720\"\n",
       "            src=\"https://wandb.ai/diwert/uw-maddison-gi-tract/runs/3blq9j1r\"\n",
       "            frameborder=\"0\"\n",
       "            allowfullscreen\n",
       "        ></iframe>\n",
       "        "
      ],
      "text/plain": [
       "<IPython.lib.display.IFrame at 0x7f3eb43378b0>"
      ]
     },
     "metadata": {},
     "output_type": "display_data"
    }
   ],
   "source": [
    "#!g1.1\n",
    "for fold in CFG.folds:\n",
    "    print(f'#'*15)\n",
    "    print(f'### Fold: {fold}')\n",
    "    print(f'#'*15)\n",
    "    run = wandb.init(project='uw-maddison-gi-tract', \n",
    "                     config={k:v for k, v in dict(vars(CFG)).items() if '__' not in k},\n",
    "                     anonymous=anonymous,\n",
    "                     name=f\"fold-{fold}|dim-{CFG.img_size[0]}x{CFG.img_size[1]}|model-{CFG.model_name}\",\n",
    "                     group=CFG.comment,\n",
    "                    )\n",
    "    train_loader, valid_loader = prepare_loaders(fold=fold, debug=CFG.debug)\n",
    "    model     = build_model()\n",
    "    optimizer = optim.Adam(model.parameters(), lr=CFG.lr, weight_decay=CFG.wd)\n",
    "    scheduler = fetch_scheduler(optimizer)\n",
    "    history   = run_training(model, optimizer, scheduler,\n",
    "                                  device=CFG.device,\n",
    "                                  num_epochs=CFG.epochs)\n",
    "    run.finish()\n",
    "    display(ipd.IFrame(run.url, width=1000, height=720))"
   ]
  }
 ],
 "metadata": {
  "kernelspec": {
   "display_name": "Yandex DataSphere Kernel",
   "language": "python",
   "name": "python3"
  },
  "language_info": {
   "codemirror_mode": {
    "name": "ipython",
    "version": 3
   },
   "file_extension": ".py",
   "mimetype": "text/x-python",
   "name": "python",
   "nbconvert_exporter": "python",
   "pygments_lexer": "ipython3",
   "version": "3.7.7"
  },
  "notebookId": "4cd50d3b-5852-4ee6-9db5-638422d591a0",
  "notebookPath": "pipeline 2.5D ver 13.3.ipynb"
 },
 "nbformat": 4,
 "nbformat_minor": 4
}
